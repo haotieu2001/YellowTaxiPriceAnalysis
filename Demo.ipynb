{
  "nbformat": 4,
  "nbformat_minor": 0,
  "metadata": {
    "colab": {
      "name": "Demo.ipynb",
      "provenance": [],
      "collapsed_sections": []
    },
    "kernelspec": {
      "name": "python3",
      "display_name": "Python 3"
    },
    "language_info": {
      "name": "python"
    }
  },
  "cells": [
    {
      "cell_type": "code",
      "metadata": {
        "id": "QGd2c7PoecZ9",
        "colab": {
          "base_uri": "https://localhost:8080/"
        },
        "outputId": "c92a5836-e91f-40d2-b982-5ac6196b4bad"
      },
      "source": [
        "!pip install -q fastai --upgrade"
      ],
      "execution_count": 1,
      "outputs": [
        {
          "output_type": "stream",
          "name": "stdout",
          "text": [
            "\u001b[K     |████████████████████████████████| 189 kB 5.2 MB/s \n",
            "\u001b[K     |████████████████████████████████| 56 kB 5.1 MB/s \n",
            "\u001b[?25h"
          ]
        }
      ]
    },
    {
      "cell_type": "code",
      "metadata": {
        "id": "S8ahBDkle1SB"
      },
      "source": [
        "from fastai.tabular.all import *"
      ],
      "execution_count": 2,
      "outputs": []
    },
    {
      "cell_type": "code",
      "metadata": {
        "id": "i9u-XwmEf05w"
      },
      "source": [
        "df = pd.read_csv('/content/drive/MyDrive/PHAN TICH/data_1.csv', index_col='Unnamed: 0')"
      ],
      "execution_count": 3,
      "outputs": []
    },
    {
      "cell_type": "code",
      "metadata": {
        "id": "SRlLvwD_VmEG"
      },
      "source": [
        "df_100 = df[(df['total_amount']<100)]"
      ],
      "execution_count": 23,
      "outputs": []
    },
    {
      "cell_type": "code",
      "metadata": {
        "id": "Y40UMmBUU1qW"
      },
      "source": [
        "def r_mse(pred,y): return round(math.sqrt(((pred-y)**2).mean()), 5)"
      ],
      "execution_count": 26,
      "outputs": []
    },
    {
      "cell_type": "code",
      "metadata": {
        "id": "SpVG1i23TWj5"
      },
      "source": [
        "rf_model = load_pickle('/content/drive/MyDrive/PHAN TICH/rf_dropped_model.pkl')"
      ],
      "execution_count": 27,
      "outputs": []
    },
    {
      "cell_type": "code",
      "metadata": {
        "colab": {
          "base_uri": "https://localhost:8080/"
        },
        "id": "SXWnRgx8WevM",
        "outputId": "b1c73412-4fb9-47e2-cc6b-677eaadcbda6"
      },
      "source": [
        "cat_vars =['ratecodeid','pulocationid','dolocationid','extra','mta_tax','congestion_surcharge'] # các biến phân loại\n",
        "cont_vars =['trip_distance','fare_amount','tip_amount','tolls_amount'] #các biến liên tục\n",
        "dep_var = 'total_amount' # biến phụ thuộc\n",
        "procs = [Categorify,Normalize] # chuyển các biến phân loại về dạng Category\n",
        "splits = RandomSplitter(valid_pct=0.2)(range_of(df_100)) # chia 20% cho tập valid\n",
        "to = TabularPandas(df_100, procs, cat_vars, cont_vars, dep_var, y_block=RegressionBlock(),\n",
        "                   splits=splits, inplace=True, reduce_memory=True)"
      ],
      "execution_count": 130,
      "outputs": [
        {
          "output_type": "stream",
          "name": "stderr",
          "text": [
            "/usr/local/lib/python3.7/dist-packages/fastai/tabular/core.py:148: UserWarning: Using inplace with splits will trigger a pandas error. Set `pd.options.mode.chained_assignment=None` to avoid it.\n",
            "  warn(\"Using inplace with splits will trigger a pandas error. Set `pd.options.mode.chained_assignment=None` to avoid it.\")\n"
          ]
        }
      ]
    },
    {
      "cell_type": "markdown",
      "metadata": {
        "id": "NuGF7kBnXect"
      },
      "source": [
        "#RF test"
      ]
    },
    {
      "cell_type": "code",
      "metadata": {
        "id": "RTZ4DO9sW84F"
      },
      "source": [
        "xs_test = to.train.xs[2000:3000]\n",
        "y_test = to.train.y[2000:3000]"
      ],
      "execution_count": 157,
      "outputs": []
    },
    {
      "cell_type": "code",
      "metadata": {
        "colab": {
          "base_uri": "https://localhost:8080/",
          "height": 677
        },
        "id": "QdhkeJpuUArU",
        "outputId": "0feeddce-2bec-4a49-81c0-05c26e13d4e1"
      },
      "source": [
        "result_0 = pd.DataFrame({'predict': rf_model.predict(xs_test), 'target':y_test})\n",
        "result_0[50:70]"
      ],
      "execution_count": 158,
      "outputs": [
        {
          "output_type": "execute_result",
          "data": {
            "text/html": [
              "<div>\n",
              "<style scoped>\n",
              "    .dataframe tbody tr th:only-of-type {\n",
              "        vertical-align: middle;\n",
              "    }\n",
              "\n",
              "    .dataframe tbody tr th {\n",
              "        vertical-align: top;\n",
              "    }\n",
              "\n",
              "    .dataframe thead th {\n",
              "        text-align: right;\n",
              "    }\n",
              "</style>\n",
              "<table border=\"1\" class=\"dataframe\">\n",
              "  <thead>\n",
              "    <tr style=\"text-align: right;\">\n",
              "      <th></th>\n",
              "      <th>predict</th>\n",
              "      <th>target</th>\n",
              "    </tr>\n",
              "  </thead>\n",
              "  <tbody>\n",
              "    <tr>\n",
              "      <th>771454</th>\n",
              "      <td>10.308792</td>\n",
              "      <td>10.300000</td>\n",
              "    </tr>\n",
              "    <tr>\n",
              "      <th>515689</th>\n",
              "      <td>14.756647</td>\n",
              "      <td>14.760000</td>\n",
              "    </tr>\n",
              "    <tr>\n",
              "      <th>549526</th>\n",
              "      <td>14.160734</td>\n",
              "      <td>14.160000</td>\n",
              "    </tr>\n",
              "    <tr>\n",
              "      <th>647304</th>\n",
              "      <td>8.982661</td>\n",
              "      <td>8.970000</td>\n",
              "    </tr>\n",
              "    <tr>\n",
              "      <th>906485</th>\n",
              "      <td>14.715750</td>\n",
              "      <td>14.760000</td>\n",
              "    </tr>\n",
              "    <tr>\n",
              "      <th>194987</th>\n",
              "      <td>9.281581</td>\n",
              "      <td>9.300000</td>\n",
              "    </tr>\n",
              "    <tr>\n",
              "      <th>189309</th>\n",
              "      <td>9.961729</td>\n",
              "      <td>9.950000</td>\n",
              "    </tr>\n",
              "    <tr>\n",
              "      <th>678748</th>\n",
              "      <td>12.948399</td>\n",
              "      <td>12.950000</td>\n",
              "    </tr>\n",
              "    <tr>\n",
              "      <th>553068</th>\n",
              "      <td>13.414320</td>\n",
              "      <td>13.300000</td>\n",
              "    </tr>\n",
              "    <tr>\n",
              "      <th>341535</th>\n",
              "      <td>17.066218</td>\n",
              "      <td>16.799999</td>\n",
              "    </tr>\n",
              "    <tr>\n",
              "      <th>230305</th>\n",
              "      <td>12.691602</td>\n",
              "      <td>12.740000</td>\n",
              "    </tr>\n",
              "    <tr>\n",
              "      <th>420734</th>\n",
              "      <td>10.306307</td>\n",
              "      <td>10.300000</td>\n",
              "    </tr>\n",
              "    <tr>\n",
              "      <th>934579</th>\n",
              "      <td>10.783813</td>\n",
              "      <td>10.780000</td>\n",
              "    </tr>\n",
              "    <tr>\n",
              "      <th>868728</th>\n",
              "      <td>9.303492</td>\n",
              "      <td>9.300000</td>\n",
              "    </tr>\n",
              "    <tr>\n",
              "      <th>108127</th>\n",
              "      <td>8.890034</td>\n",
              "      <td>8.800000</td>\n",
              "    </tr>\n",
              "    <tr>\n",
              "      <th>8391</th>\n",
              "      <td>18.388650</td>\n",
              "      <td>18.360001</td>\n",
              "    </tr>\n",
              "    <tr>\n",
              "      <th>571768</th>\n",
              "      <td>73.776822</td>\n",
              "      <td>73.699997</td>\n",
              "    </tr>\n",
              "    <tr>\n",
              "      <th>190586</th>\n",
              "      <td>7.298219</td>\n",
              "      <td>7.300000</td>\n",
              "    </tr>\n",
              "    <tr>\n",
              "      <th>176791</th>\n",
              "      <td>7.809987</td>\n",
              "      <td>7.800000</td>\n",
              "    </tr>\n",
              "    <tr>\n",
              "      <th>799421</th>\n",
              "      <td>20.271728</td>\n",
              "      <td>20.270000</td>\n",
              "    </tr>\n",
              "  </tbody>\n",
              "</table>\n",
              "</div>"
            ],
            "text/plain": [
              "          predict     target\n",
              "771454  10.308792  10.300000\n",
              "515689  14.756647  14.760000\n",
              "549526  14.160734  14.160000\n",
              "647304   8.982661   8.970000\n",
              "906485  14.715750  14.760000\n",
              "194987   9.281581   9.300000\n",
              "189309   9.961729   9.950000\n",
              "678748  12.948399  12.950000\n",
              "553068  13.414320  13.300000\n",
              "341535  17.066218  16.799999\n",
              "230305  12.691602  12.740000\n",
              "420734  10.306307  10.300000\n",
              "934579  10.783813  10.780000\n",
              "868728   9.303492   9.300000\n",
              "108127   8.890034   8.800000\n",
              "8391    18.388650  18.360001\n",
              "571768  73.776822  73.699997\n",
              "190586   7.298219   7.300000\n",
              "176791   7.809987   7.800000\n",
              "799421  20.271728  20.270000"
            ]
          },
          "metadata": {},
          "execution_count": 158
        }
      ]
    },
    {
      "cell_type": "code",
      "metadata": {
        "colab": {
          "base_uri": "https://localhost:8080/"
        },
        "id": "4gj9AkReU3AC",
        "outputId": "2d3f1a54-5e14-4e9d-8b05-cb058b2ce298"
      },
      "source": [
        "r_mse(rf_model.predict(xs_test),y_test)"
      ],
      "execution_count": 159,
      "outputs": [
        {
          "output_type": "execute_result",
          "data": {
            "text/plain": [
              "0.2792"
            ]
          },
          "metadata": {},
          "execution_count": 159
        }
      ]
    },
    {
      "cell_type": "code",
      "metadata": {
        "id": "3Llz66B6YCNM"
      },
      "source": [
        ""
      ],
      "execution_count": null,
      "outputs": []
    }
  ]
}
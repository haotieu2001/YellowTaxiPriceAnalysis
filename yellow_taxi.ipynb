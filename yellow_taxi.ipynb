{
  "nbformat": 4,
  "nbformat_minor": 0,
  "metadata": {
    "colab": {
      "name": "Copy of DoAn_DS105_M11.ipynb",
      "provenance": [],
      "collapsed_sections": []
    },
    "kernelspec": {
      "name": "python3",
      "display_name": "Python 3"
    },
    "language_info": {
      "name": "python"
    },
    "accelerator": "GPU"
  },
  "cells": [
    {
      "cell_type": "markdown",
      "metadata": {
        "id": "bclXLepctDmz"
      },
      "source": [
        "# Load Data"
      ]
    },
    {
      "cell_type": "code",
      "metadata": {
        "id": "Co3Vp6QcsbIL"
      },
      "source": [
        "import pandas as pd\n",
        "import numpy as np\n",
        "import matplotlib as mpl \n",
        "import matplotlib.pyplot as plt\n",
        "import seaborn as sns\n",
        "import plotly.express as px\n",
        "import plotly.graph_objects as go\n",
        "from collections import Counter\n",
        "from scipy import stats"
      ],
      "execution_count": null,
      "outputs": []
    },
    {
      "cell_type": "code",
      "metadata": {
        "colab": {
          "base_uri": "https://localhost:8080/"
        },
        "id": "XVkYRHjesmZE",
        "outputId": "256404b7-f846-4cf7-f96d-8394bf7483c1"
      },
      "source": [
        "!pip install sodapy\n",
        "from sodapy import Socrata\n",
        "client = Socrata(\"data.cityofnewyork.us\", None)\n",
        "results = client.get(\"kxp8-n2sj\", limit=1000000)\n",
        "df = pd.DataFrame.from_records(results)"
      ],
      "execution_count": null,
      "outputs": [
        {
          "output_type": "stream",
          "name": "stdout",
          "text": [
            "Collecting sodapy\n",
            "  Downloading sodapy-2.1.0-py2.py3-none-any.whl (14 kB)\n",
            "Requirement already satisfied: requests>=2.20.0 in /usr/local/lib/python3.7/dist-packages (from sodapy) (2.23.0)\n",
            "Requirement already satisfied: certifi>=2017.4.17 in /usr/local/lib/python3.7/dist-packages (from requests>=2.20.0->sodapy) (2021.10.8)\n",
            "Requirement already satisfied: chardet<4,>=3.0.2 in /usr/local/lib/python3.7/dist-packages (from requests>=2.20.0->sodapy) (3.0.4)\n",
            "Requirement already satisfied: idna<3,>=2.5 in /usr/local/lib/python3.7/dist-packages (from requests>=2.20.0->sodapy) (2.10)\n",
            "Requirement already satisfied: urllib3!=1.25.0,!=1.25.1,<1.26,>=1.21.1 in /usr/local/lib/python3.7/dist-packages (from requests>=2.20.0->sodapy) (1.24.3)\n",
            "Installing collected packages: sodapy\n",
            "Successfully installed sodapy-2.1.0\n"
          ]
        },
        {
          "output_type": "stream",
          "name": "stderr",
          "text": [
            "WARNING:root:Requests made without an app_token will be subject to strict throttling limits.\n"
          ]
        }
      ]
    },
    {
      "cell_type": "code",
      "metadata": {
        "id": "YJt671qFsq-8",
        "colab": {
          "base_uri": "https://localhost:8080/"
        },
        "outputId": "5ebe271f-9781-409f-93c7-d0f13bf22f6b"
      },
      "source": [
        "df.info()"
      ],
      "execution_count": null,
      "outputs": [
        {
          "output_type": "stream",
          "name": "stdout",
          "text": [
            "<class 'pandas.core.frame.DataFrame'>\n",
            "RangeIndex: 1000000 entries, 0 to 999999\n",
            "Data columns (total 18 columns):\n",
            " #   Column                 Non-Null Count    Dtype \n",
            "---  ------                 --------------    ----- \n",
            " 0   vendorid               1000000 non-null  object\n",
            " 1   tpep_pickup_datetime   1000000 non-null  object\n",
            " 2   tpep_dropoff_datetime  1000000 non-null  object\n",
            " 3   passenger_count        1000000 non-null  object\n",
            " 4   trip_distance          1000000 non-null  object\n",
            " 5   ratecodeid             1000000 non-null  object\n",
            " 6   store_and_fwd_flag     1000000 non-null  object\n",
            " 7   pulocationid           1000000 non-null  object\n",
            " 8   dolocationid           1000000 non-null  object\n",
            " 9   payment_type           1000000 non-null  object\n",
            " 10  fare_amount            1000000 non-null  object\n",
            " 11  extra                  1000000 non-null  object\n",
            " 12  mta_tax                1000000 non-null  object\n",
            " 13  tip_amount             1000000 non-null  object\n",
            " 14  tolls_amount           1000000 non-null  object\n",
            " 15  improvement_surcharge  1000000 non-null  object\n",
            " 16  total_amount           1000000 non-null  object\n",
            " 17  congestion_surcharge   1000000 non-null  object\n",
            "dtypes: object(18)\n",
            "memory usage: 137.3+ MB\n"
          ]
        }
      ]
    },
    {
      "cell_type": "code",
      "metadata": {
        "colab": {
          "base_uri": "https://localhost:8080/",
          "height": 557
        },
        "id": "s9joCiJps1BM",
        "outputId": "8e86a4fe-1719-47bb-dce9-9a83e8915551"
      },
      "source": [
        "df.head(10)"
      ],
      "execution_count": null,
      "outputs": [
        {
          "output_type": "execute_result",
          "data": {
            "text/html": [
              "<div>\n",
              "<style scoped>\n",
              "    .dataframe tbody tr th:only-of-type {\n",
              "        vertical-align: middle;\n",
              "    }\n",
              "\n",
              "    .dataframe tbody tr th {\n",
              "        vertical-align: top;\n",
              "    }\n",
              "\n",
              "    .dataframe thead th {\n",
              "        text-align: right;\n",
              "    }\n",
              "</style>\n",
              "<table border=\"1\" class=\"dataframe\">\n",
              "  <thead>\n",
              "    <tr style=\"text-align: right;\">\n",
              "      <th></th>\n",
              "      <th>vendorid</th>\n",
              "      <th>tpep_pickup_datetime</th>\n",
              "      <th>tpep_dropoff_datetime</th>\n",
              "      <th>passenger_count</th>\n",
              "      <th>trip_distance</th>\n",
              "      <th>ratecodeid</th>\n",
              "      <th>store_and_fwd_flag</th>\n",
              "      <th>pulocationid</th>\n",
              "      <th>dolocationid</th>\n",
              "      <th>payment_type</th>\n",
              "      <th>fare_amount</th>\n",
              "      <th>extra</th>\n",
              "      <th>mta_tax</th>\n",
              "      <th>tip_amount</th>\n",
              "      <th>tolls_amount</th>\n",
              "      <th>improvement_surcharge</th>\n",
              "      <th>total_amount</th>\n",
              "      <th>congestion_surcharge</th>\n",
              "    </tr>\n",
              "  </thead>\n",
              "  <tbody>\n",
              "    <tr>\n",
              "      <th>0</th>\n",
              "      <td>1</td>\n",
              "      <td>2020-01-01T00:28:15.000</td>\n",
              "      <td>2020-01-01T00:33:03.000</td>\n",
              "      <td>1</td>\n",
              "      <td>1.20</td>\n",
              "      <td>1</td>\n",
              "      <td>N</td>\n",
              "      <td>238</td>\n",
              "      <td>239</td>\n",
              "      <td>1</td>\n",
              "      <td>6</td>\n",
              "      <td>3</td>\n",
              "      <td>0.5</td>\n",
              "      <td>1.47</td>\n",
              "      <td>0</td>\n",
              "      <td>0.3</td>\n",
              "      <td>11.27</td>\n",
              "      <td>2.5</td>\n",
              "    </tr>\n",
              "    <tr>\n",
              "      <th>1</th>\n",
              "      <td>1</td>\n",
              "      <td>2020-01-01T00:35:39.000</td>\n",
              "      <td>2020-01-01T00:43:04.000</td>\n",
              "      <td>1</td>\n",
              "      <td>1.20</td>\n",
              "      <td>1</td>\n",
              "      <td>N</td>\n",
              "      <td>239</td>\n",
              "      <td>238</td>\n",
              "      <td>1</td>\n",
              "      <td>7</td>\n",
              "      <td>3</td>\n",
              "      <td>0.5</td>\n",
              "      <td>1.5</td>\n",
              "      <td>0</td>\n",
              "      <td>0.3</td>\n",
              "      <td>12.3</td>\n",
              "      <td>2.5</td>\n",
              "    </tr>\n",
              "    <tr>\n",
              "      <th>2</th>\n",
              "      <td>1</td>\n",
              "      <td>2020-01-01T00:47:41.000</td>\n",
              "      <td>2020-01-01T00:53:52.000</td>\n",
              "      <td>1</td>\n",
              "      <td>0.60</td>\n",
              "      <td>1</td>\n",
              "      <td>N</td>\n",
              "      <td>238</td>\n",
              "      <td>238</td>\n",
              "      <td>1</td>\n",
              "      <td>6</td>\n",
              "      <td>3</td>\n",
              "      <td>0.5</td>\n",
              "      <td>1</td>\n",
              "      <td>0</td>\n",
              "      <td>0.3</td>\n",
              "      <td>10.8</td>\n",
              "      <td>2.5</td>\n",
              "    </tr>\n",
              "    <tr>\n",
              "      <th>3</th>\n",
              "      <td>1</td>\n",
              "      <td>2020-01-01T00:55:23.000</td>\n",
              "      <td>2020-01-01T01:00:14.000</td>\n",
              "      <td>1</td>\n",
              "      <td>0.80</td>\n",
              "      <td>1</td>\n",
              "      <td>N</td>\n",
              "      <td>238</td>\n",
              "      <td>151</td>\n",
              "      <td>1</td>\n",
              "      <td>5.5</td>\n",
              "      <td>0.5</td>\n",
              "      <td>0.5</td>\n",
              "      <td>1.36</td>\n",
              "      <td>0</td>\n",
              "      <td>0.3</td>\n",
              "      <td>8.16</td>\n",
              "      <td>0</td>\n",
              "    </tr>\n",
              "    <tr>\n",
              "      <th>4</th>\n",
              "      <td>2</td>\n",
              "      <td>2020-01-01T00:01:58.000</td>\n",
              "      <td>2020-01-01T00:04:16.000</td>\n",
              "      <td>1</td>\n",
              "      <td>0.00</td>\n",
              "      <td>1</td>\n",
              "      <td>N</td>\n",
              "      <td>193</td>\n",
              "      <td>193</td>\n",
              "      <td>2</td>\n",
              "      <td>3.5</td>\n",
              "      <td>0.5</td>\n",
              "      <td>0.5</td>\n",
              "      <td>0</td>\n",
              "      <td>0</td>\n",
              "      <td>0.3</td>\n",
              "      <td>4.8</td>\n",
              "      <td>0</td>\n",
              "    </tr>\n",
              "    <tr>\n",
              "      <th>5</th>\n",
              "      <td>2</td>\n",
              "      <td>2020-01-01T00:09:44.000</td>\n",
              "      <td>2020-01-01T00:10:37.000</td>\n",
              "      <td>1</td>\n",
              "      <td>0.03</td>\n",
              "      <td>1</td>\n",
              "      <td>N</td>\n",
              "      <td>7</td>\n",
              "      <td>193</td>\n",
              "      <td>2</td>\n",
              "      <td>2.5</td>\n",
              "      <td>0.5</td>\n",
              "      <td>0.5</td>\n",
              "      <td>0</td>\n",
              "      <td>0</td>\n",
              "      <td>0.3</td>\n",
              "      <td>3.8</td>\n",
              "      <td>0</td>\n",
              "    </tr>\n",
              "    <tr>\n",
              "      <th>6</th>\n",
              "      <td>2</td>\n",
              "      <td>2020-01-01T00:39:25.000</td>\n",
              "      <td>2020-01-01T00:39:29.000</td>\n",
              "      <td>1</td>\n",
              "      <td>0.00</td>\n",
              "      <td>1</td>\n",
              "      <td>N</td>\n",
              "      <td>193</td>\n",
              "      <td>193</td>\n",
              "      <td>1</td>\n",
              "      <td>2.5</td>\n",
              "      <td>0.5</td>\n",
              "      <td>0.5</td>\n",
              "      <td>0.01</td>\n",
              "      <td>0</td>\n",
              "      <td>0.3</td>\n",
              "      <td>3.81</td>\n",
              "      <td>0</td>\n",
              "    </tr>\n",
              "    <tr>\n",
              "      <th>7</th>\n",
              "      <td>2</td>\n",
              "      <td>2019-12-18T15:27:49.000</td>\n",
              "      <td>2019-12-18T15:28:59.000</td>\n",
              "      <td>1</td>\n",
              "      <td>0.00</td>\n",
              "      <td>5</td>\n",
              "      <td>N</td>\n",
              "      <td>193</td>\n",
              "      <td>193</td>\n",
              "      <td>1</td>\n",
              "      <td>0.01</td>\n",
              "      <td>0</td>\n",
              "      <td>0</td>\n",
              "      <td>0</td>\n",
              "      <td>0</td>\n",
              "      <td>0.3</td>\n",
              "      <td>2.81</td>\n",
              "      <td>2.5</td>\n",
              "    </tr>\n",
              "    <tr>\n",
              "      <th>8</th>\n",
              "      <td>2</td>\n",
              "      <td>2019-12-18T15:30:35.000</td>\n",
              "      <td>2019-12-18T15:31:35.000</td>\n",
              "      <td>4</td>\n",
              "      <td>0.00</td>\n",
              "      <td>1</td>\n",
              "      <td>N</td>\n",
              "      <td>193</td>\n",
              "      <td>193</td>\n",
              "      <td>1</td>\n",
              "      <td>2.5</td>\n",
              "      <td>0.5</td>\n",
              "      <td>0.5</td>\n",
              "      <td>0</td>\n",
              "      <td>0</td>\n",
              "      <td>0.3</td>\n",
              "      <td>6.3</td>\n",
              "      <td>2.5</td>\n",
              "    </tr>\n",
              "    <tr>\n",
              "      <th>9</th>\n",
              "      <td>1</td>\n",
              "      <td>2020-01-01T00:29:01.000</td>\n",
              "      <td>2020-01-01T00:40:28.000</td>\n",
              "      <td>2</td>\n",
              "      <td>0.70</td>\n",
              "      <td>1</td>\n",
              "      <td>N</td>\n",
              "      <td>246</td>\n",
              "      <td>48</td>\n",
              "      <td>1</td>\n",
              "      <td>8</td>\n",
              "      <td>3</td>\n",
              "      <td>0.5</td>\n",
              "      <td>2.35</td>\n",
              "      <td>0</td>\n",
              "      <td>0.3</td>\n",
              "      <td>14.15</td>\n",
              "      <td>2.5</td>\n",
              "    </tr>\n",
              "  </tbody>\n",
              "</table>\n",
              "</div>"
            ],
            "text/plain": [
              "  vendorid     tpep_pickup_datetime  ... total_amount congestion_surcharge\n",
              "0        1  2020-01-01T00:28:15.000  ...        11.27                  2.5\n",
              "1        1  2020-01-01T00:35:39.000  ...         12.3                  2.5\n",
              "2        1  2020-01-01T00:47:41.000  ...         10.8                  2.5\n",
              "3        1  2020-01-01T00:55:23.000  ...         8.16                    0\n",
              "4        2  2020-01-01T00:01:58.000  ...          4.8                    0\n",
              "5        2  2020-01-01T00:09:44.000  ...          3.8                    0\n",
              "6        2  2020-01-01T00:39:25.000  ...         3.81                    0\n",
              "7        2  2019-12-18T15:27:49.000  ...         2.81                  2.5\n",
              "8        2  2019-12-18T15:30:35.000  ...          6.3                  2.5\n",
              "9        1  2020-01-01T00:29:01.000  ...        14.15                  2.5\n",
              "\n",
              "[10 rows x 18 columns]"
            ]
          },
          "metadata": {},
          "execution_count": 4
        }
      ]
    },
    {
      "cell_type": "markdown",
      "metadata": {
        "id": "E1Z9uv57tKXx"
      },
      "source": [
        "# Xử lý data"
      ]
    },
    {
      "cell_type": "markdown",
      "metadata": {
        "id": "0GrZqXEIK6a_"
      },
      "source": [
        "##Thay đổi kiểu dữ liệu"
      ]
    },
    {
      "cell_type": "markdown",
      "metadata": {
        "id": "13v4vLmDITd6"
      },
      "source": [
        "Thay đổi kiểu dữ liệu cho các cột để phù hợp cho việc phân tích."
      ]
    },
    {
      "cell_type": "code",
      "metadata": {
        "id": "pdNHJNpes3nN"
      },
      "source": [
        "df['tpep_pickup_datetime'] = pd.to_datetime(df['tpep_pickup_datetime'])\n",
        "df['tpep_dropoff_datetime'] = pd.to_datetime(df['tpep_dropoff_datetime'])"
      ],
      "execution_count": null,
      "outputs": []
    },
    {
      "cell_type": "markdown",
      "metadata": {
        "id": "hbg0F6VeIhUm"
      },
      "source": [
        "Thay đổi 2 cột 'tpep_pickup_datetime'&'tpep_dropoff_datetime' về định dạng ngày để dễ xử lý."
      ]
    },
    {
      "cell_type": "code",
      "metadata": {
        "id": "UPf4e1CitOjX"
      },
      "source": [
        "df[['trip_distance','fare_amount','tip_amount','tolls_amount','total_amount',]]=df[['trip_distance','fare_amount','tip_amount','tolls_amount','total_amount',]].astype(float)"
      ],
      "execution_count": null,
      "outputs": []
    },
    {
      "cell_type": "markdown",
      "metadata": {
        "id": "LwOuucMtXoFN"
      },
      "source": [
        "Các thuộc tính liên tục sẽ được đưa hết về dạng Float"
      ]
    },
    {
      "cell_type": "code",
      "metadata": {
        "id": "R6gVDwGstYmy",
        "colab": {
          "base_uri": "https://localhost:8080/"
        },
        "outputId": "93d3be06-aa9d-4e2c-c9f8-953805c16dcc"
      },
      "source": [
        "df.info()"
      ],
      "execution_count": null,
      "outputs": [
        {
          "output_type": "stream",
          "name": "stdout",
          "text": [
            "<class 'pandas.core.frame.DataFrame'>\n",
            "RangeIndex: 1000000 entries, 0 to 999999\n",
            "Data columns (total 18 columns):\n",
            " #   Column                 Non-Null Count    Dtype         \n",
            "---  ------                 --------------    -----         \n",
            " 0   vendorid               1000000 non-null  object        \n",
            " 1   tpep_pickup_datetime   1000000 non-null  datetime64[ns]\n",
            " 2   tpep_dropoff_datetime  1000000 non-null  datetime64[ns]\n",
            " 3   passenger_count        1000000 non-null  object        \n",
            " 4   trip_distance          1000000 non-null  float64       \n",
            " 5   ratecodeid             1000000 non-null  object        \n",
            " 6   store_and_fwd_flag     1000000 non-null  object        \n",
            " 7   pulocationid           1000000 non-null  object        \n",
            " 8   dolocationid           1000000 non-null  object        \n",
            " 9   payment_type           1000000 non-null  object        \n",
            " 10  fare_amount            1000000 non-null  float64       \n",
            " 11  extra                  1000000 non-null  object        \n",
            " 12  mta_tax                1000000 non-null  object        \n",
            " 13  tip_amount             1000000 non-null  float64       \n",
            " 14  tolls_amount           1000000 non-null  float64       \n",
            " 15  improvement_surcharge  1000000 non-null  object        \n",
            " 16  total_amount           1000000 non-null  float64       \n",
            " 17  congestion_surcharge   1000000 non-null  object        \n",
            "dtypes: datetime64[ns](2), float64(5), object(11)\n",
            "memory usage: 137.3+ MB\n"
          ]
        }
      ]
    },
    {
      "cell_type": "code",
      "metadata": {
        "id": "NhLwVRqkt777",
        "colab": {
          "base_uri": "https://localhost:8080/",
          "height": 300
        },
        "outputId": "1c269509-ef04-4bff-c485-5084c8f86256"
      },
      "source": [
        "df.describe()"
      ],
      "execution_count": null,
      "outputs": [
        {
          "output_type": "execute_result",
          "data": {
            "text/html": [
              "<div>\n",
              "<style scoped>\n",
              "    .dataframe tbody tr th:only-of-type {\n",
              "        vertical-align: middle;\n",
              "    }\n",
              "\n",
              "    .dataframe tbody tr th {\n",
              "        vertical-align: top;\n",
              "    }\n",
              "\n",
              "    .dataframe thead th {\n",
              "        text-align: right;\n",
              "    }\n",
              "</style>\n",
              "<table border=\"1\" class=\"dataframe\">\n",
              "  <thead>\n",
              "    <tr style=\"text-align: right;\">\n",
              "      <th></th>\n",
              "      <th>trip_distance</th>\n",
              "      <th>fare_amount</th>\n",
              "      <th>tip_amount</th>\n",
              "      <th>tolls_amount</th>\n",
              "      <th>total_amount</th>\n",
              "    </tr>\n",
              "  </thead>\n",
              "  <tbody>\n",
              "    <tr>\n",
              "      <th>count</th>\n",
              "      <td>1000000.00000</td>\n",
              "      <td>1000000.00000</td>\n",
              "      <td>1000000.000000</td>\n",
              "      <td>1000000.000000</td>\n",
              "      <td>1000000.000000</td>\n",
              "    </tr>\n",
              "    <tr>\n",
              "      <th>mean</th>\n",
              "      <td>3.11482</td>\n",
              "      <td>12.90728</td>\n",
              "      <td>2.076408</td>\n",
              "      <td>0.379730</td>\n",
              "      <td>18.712602</td>\n",
              "    </tr>\n",
              "    <tr>\n",
              "      <th>std</th>\n",
              "      <td>4.14321</td>\n",
              "      <td>12.93358</td>\n",
              "      <td>2.861873</td>\n",
              "      <td>1.930441</td>\n",
              "      <td>15.667134</td>\n",
              "    </tr>\n",
              "    <tr>\n",
              "      <th>min</th>\n",
              "      <td>-22.18000</td>\n",
              "      <td>-1238.00000</td>\n",
              "      <td>-7.000000</td>\n",
              "      <td>-30.000000</td>\n",
              "      <td>-1242.300000</td>\n",
              "    </tr>\n",
              "    <tr>\n",
              "      <th>25%</th>\n",
              "      <td>0.99000</td>\n",
              "      <td>6.00000</td>\n",
              "      <td>0.000000</td>\n",
              "      <td>0.000000</td>\n",
              "      <td>10.800000</td>\n",
              "    </tr>\n",
              "    <tr>\n",
              "      <th>50%</th>\n",
              "      <td>1.66000</td>\n",
              "      <td>9.00000</td>\n",
              "      <td>1.750000</td>\n",
              "      <td>0.000000</td>\n",
              "      <td>13.800000</td>\n",
              "    </tr>\n",
              "    <tr>\n",
              "      <th>75%</th>\n",
              "      <td>3.13000</td>\n",
              "      <td>14.00000</td>\n",
              "      <td>2.750000</td>\n",
              "      <td>0.000000</td>\n",
              "      <td>19.560000</td>\n",
              "    </tr>\n",
              "    <tr>\n",
              "      <th>max</th>\n",
              "      <td>259.22000</td>\n",
              "      <td>1238.00000</td>\n",
              "      <td>450.000000</td>\n",
              "      <td>910.500000</td>\n",
              "      <td>1242.300000</td>\n",
              "    </tr>\n",
              "  </tbody>\n",
              "</table>\n",
              "</div>"
            ],
            "text/plain": [
              "       trip_distance    fare_amount  ...    tolls_amount    total_amount\n",
              "count  1000000.00000  1000000.00000  ...  1000000.000000  1000000.000000\n",
              "mean         3.11482       12.90728  ...        0.379730       18.712602\n",
              "std          4.14321       12.93358  ...        1.930441       15.667134\n",
              "min        -22.18000    -1238.00000  ...      -30.000000    -1242.300000\n",
              "25%          0.99000        6.00000  ...        0.000000       10.800000\n",
              "50%          1.66000        9.00000  ...        0.000000       13.800000\n",
              "75%          3.13000       14.00000  ...        0.000000       19.560000\n",
              "max        259.22000     1238.00000  ...      910.500000     1242.300000\n",
              "\n",
              "[8 rows x 5 columns]"
            ]
          },
          "metadata": {},
          "execution_count": 8
        }
      ]
    },
    {
      "cell_type": "markdown",
      "metadata": {
        "id": "PSyp4AFFuW_J"
      },
      "source": [
        "##Duration"
      ]
    },
    {
      "cell_type": "markdown",
      "metadata": {
        "id": "B8FcSVQOI2Fi"
      },
      "source": [
        "Thêm vào thuộc tính 'Duration', thuộc tính này có ý nghĩa là khoảng thời gian hành khách lên xe."
      ]
    },
    {
      "cell_type": "code",
      "metadata": {
        "id": "X_RHHUqNt_-v"
      },
      "source": [
        "df_new2=df['tpep_pickup_datetime'].copy()\n",
        "df_new3=df['tpep_dropoff_datetime'].copy()"
      ],
      "execution_count": null,
      "outputs": []
    },
    {
      "cell_type": "code",
      "metadata": {
        "id": "KGqYRb4FuEsp"
      },
      "source": [
        "df['duration']=df_new3-df_new2"
      ],
      "execution_count": null,
      "outputs": []
    },
    {
      "cell_type": "code",
      "metadata": {
        "id": "PqGbojKXuGJh"
      },
      "source": [
        "df_new_2=df['duration'].copy()"
      ],
      "execution_count": null,
      "outputs": []
    },
    {
      "cell_type": "code",
      "metadata": {
        "id": "WaSWN1mmuKwn"
      },
      "source": [
        "import datetime as dt\n",
        "df_new_2=df_new_2.dt.total_seconds()\n",
        "df_new_2=df_new_2/60"
      ],
      "execution_count": null,
      "outputs": []
    },
    {
      "cell_type": "code",
      "metadata": {
        "colab": {
          "base_uri": "https://localhost:8080/"
        },
        "id": "S2XEasW2uP--",
        "outputId": "f3f8ad30-3687-4f07-8c2c-8e9e1dd4f378"
      },
      "source": [
        "df['duration']=df_new_2.copy()\n",
        "df['duration']"
      ],
      "execution_count": null,
      "outputs": [
        {
          "output_type": "execute_result",
          "data": {
            "text/plain": [
              "0          4.800000\n",
              "1          7.416667\n",
              "2          6.183333\n",
              "3          4.850000\n",
              "4          2.300000\n",
              "            ...    \n",
              "999995    16.866667\n",
              "999996     5.850000\n",
              "999997    10.916667\n",
              "999998     6.916667\n",
              "999999    15.183333\n",
              "Name: duration, Length: 1000000, dtype: float64"
            ]
          },
          "metadata": {},
          "execution_count": 9
        }
      ]
    },
    {
      "cell_type": "code",
      "metadata": {
        "id": "BgW7LaG747kU"
      },
      "source": [
        "df=df[(df['duration']>0)]"
      ],
      "execution_count": null,
      "outputs": []
    },
    {
      "cell_type": "markdown",
      "metadata": {
        "id": "sM84VBqcuaz9"
      },
      "source": [
        "##Time"
      ]
    },
    {
      "cell_type": "markdown",
      "metadata": {
        "id": "2xQsIJwZJMTJ"
      },
      "source": [
        "Thuộc tính 'Time' được thêm vào là mốc thời gian mà hành khách lên xe. "
      ]
    },
    {
      "cell_type": "code",
      "metadata": {
        "id": "K07_fEfEul_Y"
      },
      "source": [
        "df['time']=df['tpep_pickup_datetime'].dt.hour"
      ],
      "execution_count": null,
      "outputs": []
    },
    {
      "cell_type": "code",
      "metadata": {
        "colab": {
          "base_uri": "https://localhost:8080/",
          "height": 383
        },
        "id": "cMuNpKvzyJo8",
        "outputId": "d274dc94-104a-4af7-d816-9aabb081be87"
      },
      "source": [
        "df.head(10)"
      ],
      "execution_count": null,
      "outputs": [
        {
          "output_type": "execute_result",
          "data": {
            "text/html": [
              "<div>\n",
              "<style scoped>\n",
              "    .dataframe tbody tr th:only-of-type {\n",
              "        vertical-align: middle;\n",
              "    }\n",
              "\n",
              "    .dataframe tbody tr th {\n",
              "        vertical-align: top;\n",
              "    }\n",
              "\n",
              "    .dataframe thead th {\n",
              "        text-align: right;\n",
              "    }\n",
              "</style>\n",
              "<table border=\"1\" class=\"dataframe\">\n",
              "  <thead>\n",
              "    <tr style=\"text-align: right;\">\n",
              "      <th></th>\n",
              "      <th>vendorid</th>\n",
              "      <th>tpep_pickup_datetime</th>\n",
              "      <th>tpep_dropoff_datetime</th>\n",
              "      <th>passenger_count</th>\n",
              "      <th>trip_distance</th>\n",
              "      <th>ratecodeid</th>\n",
              "      <th>store_and_fwd_flag</th>\n",
              "      <th>pulocationid</th>\n",
              "      <th>dolocationid</th>\n",
              "      <th>payment_type</th>\n",
              "      <th>fare_amount</th>\n",
              "      <th>extra</th>\n",
              "      <th>mta_tax</th>\n",
              "      <th>tip_amount</th>\n",
              "      <th>tolls_amount</th>\n",
              "      <th>improvement_surcharge</th>\n",
              "      <th>total_amount</th>\n",
              "      <th>congestion_surcharge</th>\n",
              "      <th>duration</th>\n",
              "      <th>time</th>\n",
              "    </tr>\n",
              "  </thead>\n",
              "  <tbody>\n",
              "    <tr>\n",
              "      <th>0</th>\n",
              "      <td>1</td>\n",
              "      <td>2020-01-01 00:28:15</td>\n",
              "      <td>2020-01-01 00:33:03</td>\n",
              "      <td>1</td>\n",
              "      <td>1.20</td>\n",
              "      <td>1</td>\n",
              "      <td>N</td>\n",
              "      <td>238</td>\n",
              "      <td>239</td>\n",
              "      <td>1</td>\n",
              "      <td>6.00</td>\n",
              "      <td>3</td>\n",
              "      <td>0.5</td>\n",
              "      <td>1.47</td>\n",
              "      <td>0.0</td>\n",
              "      <td>0.3</td>\n",
              "      <td>11.27</td>\n",
              "      <td>2.5</td>\n",
              "      <td>4.800000</td>\n",
              "      <td>0</td>\n",
              "    </tr>\n",
              "    <tr>\n",
              "      <th>1</th>\n",
              "      <td>1</td>\n",
              "      <td>2020-01-01 00:35:39</td>\n",
              "      <td>2020-01-01 00:43:04</td>\n",
              "      <td>1</td>\n",
              "      <td>1.20</td>\n",
              "      <td>1</td>\n",
              "      <td>N</td>\n",
              "      <td>239</td>\n",
              "      <td>238</td>\n",
              "      <td>1</td>\n",
              "      <td>7.00</td>\n",
              "      <td>3</td>\n",
              "      <td>0.5</td>\n",
              "      <td>1.50</td>\n",
              "      <td>0.0</td>\n",
              "      <td>0.3</td>\n",
              "      <td>12.30</td>\n",
              "      <td>2.5</td>\n",
              "      <td>7.416667</td>\n",
              "      <td>0</td>\n",
              "    </tr>\n",
              "    <tr>\n",
              "      <th>2</th>\n",
              "      <td>1</td>\n",
              "      <td>2020-01-01 00:47:41</td>\n",
              "      <td>2020-01-01 00:53:52</td>\n",
              "      <td>1</td>\n",
              "      <td>0.60</td>\n",
              "      <td>1</td>\n",
              "      <td>N</td>\n",
              "      <td>238</td>\n",
              "      <td>238</td>\n",
              "      <td>1</td>\n",
              "      <td>6.00</td>\n",
              "      <td>3</td>\n",
              "      <td>0.5</td>\n",
              "      <td>1.00</td>\n",
              "      <td>0.0</td>\n",
              "      <td>0.3</td>\n",
              "      <td>10.80</td>\n",
              "      <td>2.5</td>\n",
              "      <td>6.183333</td>\n",
              "      <td>0</td>\n",
              "    </tr>\n",
              "    <tr>\n",
              "      <th>3</th>\n",
              "      <td>1</td>\n",
              "      <td>2020-01-01 00:55:23</td>\n",
              "      <td>2020-01-01 01:00:14</td>\n",
              "      <td>1</td>\n",
              "      <td>0.80</td>\n",
              "      <td>1</td>\n",
              "      <td>N</td>\n",
              "      <td>238</td>\n",
              "      <td>151</td>\n",
              "      <td>1</td>\n",
              "      <td>5.50</td>\n",
              "      <td>0.5</td>\n",
              "      <td>0.5</td>\n",
              "      <td>1.36</td>\n",
              "      <td>0.0</td>\n",
              "      <td>0.3</td>\n",
              "      <td>8.16</td>\n",
              "      <td>0</td>\n",
              "      <td>4.850000</td>\n",
              "      <td>0</td>\n",
              "    </tr>\n",
              "    <tr>\n",
              "      <th>4</th>\n",
              "      <td>2</td>\n",
              "      <td>2020-01-01 00:01:58</td>\n",
              "      <td>2020-01-01 00:04:16</td>\n",
              "      <td>1</td>\n",
              "      <td>0.00</td>\n",
              "      <td>1</td>\n",
              "      <td>N</td>\n",
              "      <td>193</td>\n",
              "      <td>193</td>\n",
              "      <td>2</td>\n",
              "      <td>3.50</td>\n",
              "      <td>0.5</td>\n",
              "      <td>0.5</td>\n",
              "      <td>0.00</td>\n",
              "      <td>0.0</td>\n",
              "      <td>0.3</td>\n",
              "      <td>4.80</td>\n",
              "      <td>0</td>\n",
              "      <td>2.300000</td>\n",
              "      <td>0</td>\n",
              "    </tr>\n",
              "    <tr>\n",
              "      <th>5</th>\n",
              "      <td>2</td>\n",
              "      <td>2020-01-01 00:09:44</td>\n",
              "      <td>2020-01-01 00:10:37</td>\n",
              "      <td>1</td>\n",
              "      <td>0.03</td>\n",
              "      <td>1</td>\n",
              "      <td>N</td>\n",
              "      <td>7</td>\n",
              "      <td>193</td>\n",
              "      <td>2</td>\n",
              "      <td>2.50</td>\n",
              "      <td>0.5</td>\n",
              "      <td>0.5</td>\n",
              "      <td>0.00</td>\n",
              "      <td>0.0</td>\n",
              "      <td>0.3</td>\n",
              "      <td>3.80</td>\n",
              "      <td>0</td>\n",
              "      <td>0.883333</td>\n",
              "      <td>0</td>\n",
              "    </tr>\n",
              "    <tr>\n",
              "      <th>6</th>\n",
              "      <td>2</td>\n",
              "      <td>2020-01-01 00:39:25</td>\n",
              "      <td>2020-01-01 00:39:29</td>\n",
              "      <td>1</td>\n",
              "      <td>0.00</td>\n",
              "      <td>1</td>\n",
              "      <td>N</td>\n",
              "      <td>193</td>\n",
              "      <td>193</td>\n",
              "      <td>1</td>\n",
              "      <td>2.50</td>\n",
              "      <td>0.5</td>\n",
              "      <td>0.5</td>\n",
              "      <td>0.01</td>\n",
              "      <td>0.0</td>\n",
              "      <td>0.3</td>\n",
              "      <td>3.81</td>\n",
              "      <td>0</td>\n",
              "      <td>0.066667</td>\n",
              "      <td>0</td>\n",
              "    </tr>\n",
              "    <tr>\n",
              "      <th>7</th>\n",
              "      <td>2</td>\n",
              "      <td>2019-12-18 15:27:49</td>\n",
              "      <td>2019-12-18 15:28:59</td>\n",
              "      <td>1</td>\n",
              "      <td>0.00</td>\n",
              "      <td>5</td>\n",
              "      <td>N</td>\n",
              "      <td>193</td>\n",
              "      <td>193</td>\n",
              "      <td>1</td>\n",
              "      <td>0.01</td>\n",
              "      <td>0</td>\n",
              "      <td>0</td>\n",
              "      <td>0.00</td>\n",
              "      <td>0.0</td>\n",
              "      <td>0.3</td>\n",
              "      <td>2.81</td>\n",
              "      <td>2.5</td>\n",
              "      <td>1.166667</td>\n",
              "      <td>15</td>\n",
              "    </tr>\n",
              "    <tr>\n",
              "      <th>8</th>\n",
              "      <td>2</td>\n",
              "      <td>2019-12-18 15:30:35</td>\n",
              "      <td>2019-12-18 15:31:35</td>\n",
              "      <td>4</td>\n",
              "      <td>0.00</td>\n",
              "      <td>1</td>\n",
              "      <td>N</td>\n",
              "      <td>193</td>\n",
              "      <td>193</td>\n",
              "      <td>1</td>\n",
              "      <td>2.50</td>\n",
              "      <td>0.5</td>\n",
              "      <td>0.5</td>\n",
              "      <td>0.00</td>\n",
              "      <td>0.0</td>\n",
              "      <td>0.3</td>\n",
              "      <td>6.30</td>\n",
              "      <td>2.5</td>\n",
              "      <td>1.000000</td>\n",
              "      <td>15</td>\n",
              "    </tr>\n",
              "    <tr>\n",
              "      <th>9</th>\n",
              "      <td>1</td>\n",
              "      <td>2020-01-01 00:29:01</td>\n",
              "      <td>2020-01-01 00:40:28</td>\n",
              "      <td>2</td>\n",
              "      <td>0.70</td>\n",
              "      <td>1</td>\n",
              "      <td>N</td>\n",
              "      <td>246</td>\n",
              "      <td>48</td>\n",
              "      <td>1</td>\n",
              "      <td>8.00</td>\n",
              "      <td>3</td>\n",
              "      <td>0.5</td>\n",
              "      <td>2.35</td>\n",
              "      <td>0.0</td>\n",
              "      <td>0.3</td>\n",
              "      <td>14.15</td>\n",
              "      <td>2.5</td>\n",
              "      <td>11.450000</td>\n",
              "      <td>0</td>\n",
              "    </tr>\n",
              "  </tbody>\n",
              "</table>\n",
              "</div>"
            ],
            "text/plain": [
              "  vendorid tpep_pickup_datetime  ...   duration time\n",
              "0        1  2020-01-01 00:28:15  ...   4.800000    0\n",
              "1        1  2020-01-01 00:35:39  ...   7.416667    0\n",
              "2        1  2020-01-01 00:47:41  ...   6.183333    0\n",
              "3        1  2020-01-01 00:55:23  ...   4.850000    0\n",
              "4        2  2020-01-01 00:01:58  ...   2.300000    0\n",
              "5        2  2020-01-01 00:09:44  ...   0.883333    0\n",
              "6        2  2020-01-01 00:39:25  ...   0.066667    0\n",
              "7        2  2019-12-18 15:27:49  ...   1.166667   15\n",
              "8        2  2019-12-18 15:30:35  ...   1.000000   15\n",
              "9        1  2020-01-01 00:29:01  ...  11.450000    0\n",
              "\n",
              "[10 rows x 20 columns]"
            ]
          },
          "metadata": {},
          "execution_count": 12
        }
      ]
    },
    {
      "cell_type": "markdown",
      "metadata": {
        "id": "O1EDgxpQuqSE"
      },
      "source": [
        "##tpep_pickup_datetime"
      ]
    },
    {
      "cell_type": "markdown",
      "metadata": {
        "id": "7H8uswwvJcuh"
      },
      "source": [
        "Thuộc tính 'tpep_pickup_datetime' sẽ được chuyển sang định dạng thứ trong tuần thay vì là ngày/tháng/năm. Ta sẽ lược bỏ bớt những mốc thời gian không phù hợp. Thuộc tính 'tpep_pickup_datetime' sẽ được đổi tên lại là 'day_of_week' cho phù hợp với ý nghĩa thuộc tính."
      ]
    },
    {
      "cell_type": "code",
      "metadata": {
        "colab": {
          "base_uri": "https://localhost:8080/"
        },
        "id": "qyQf3ZvfusPn",
        "outputId": "0d03d7d4-60ca-47fe-dce8-a94a53e3a532"
      },
      "source": [
        "df_new=df['tpep_pickup_datetime'].copy()\n",
        "df_new=df_new.astype(str)\n",
        "df['tpep_pickup_datetime']=df_new.str[:-9]\n",
        "df['tpep_pickup_datetime']"
      ],
      "execution_count": null,
      "outputs": [
        {
          "output_type": "execute_result",
          "data": {
            "text/plain": [
              "0         2020-01-01\n",
              "1         2020-01-01\n",
              "2         2020-01-01\n",
              "3         2020-01-01\n",
              "4         2020-01-01\n",
              "             ...    \n",
              "999995    2020-01-06\n",
              "999996    2020-01-06\n",
              "999997    2020-01-06\n",
              "999998    2020-01-06\n",
              "999999    2020-01-06\n",
              "Name: tpep_pickup_datetime, Length: 999322, dtype: object"
            ]
          },
          "metadata": {},
          "execution_count": 12
        }
      ]
    },
    {
      "cell_type": "code",
      "metadata": {
        "id": "GvydpSpxuxtF"
      },
      "source": [
        "value=['2019-12-18','2019-12-31','2009-01-01','2021-01-02','2008-12-31','2003-01-01']\n",
        "df=df[df.tpep_pickup_datetime.isin(value)==False]"
      ],
      "execution_count": null,
      "outputs": []
    },
    {
      "cell_type": "code",
      "metadata": {
        "id": "P4EYdWjVyUAX"
      },
      "source": [
        "df['tpep_pickup_datetime'] = pd.to_datetime(df['tpep_pickup_datetime'])"
      ],
      "execution_count": null,
      "outputs": []
    },
    {
      "cell_type": "code",
      "metadata": {
        "id": "hFkFrYvOu2_R"
      },
      "source": [
        "df['tpep_pickup_datetime']=df['tpep_pickup_datetime'].dt.weekday"
      ],
      "execution_count": null,
      "outputs": []
    },
    {
      "cell_type": "code",
      "metadata": {
        "colab": {
          "base_uri": "https://localhost:8080/",
          "height": 269
        },
        "id": "wPmRhzxbu4gi",
        "outputId": "c285b0ce-cf31-42a8-ee36-1b8412b36ed7"
      },
      "source": [
        "from collections import Counter\n",
        "df_tpep_pickup_datetime_count=df['tpep_pickup_datetime'].copy()\n",
        "cnt=Counter(df_tpep_pickup_datetime_count)\n",
        "df_psg=pd.DataFrame.from_dict(cnt, orient='index')\n",
        "df_psg.rename(columns={'index':'index',0:'value'})"
      ],
      "execution_count": null,
      "outputs": [
        {
          "output_type": "execute_result",
          "data": {
            "text/html": [
              "<div>\n",
              "<style scoped>\n",
              "    .dataframe tbody tr th:only-of-type {\n",
              "        vertical-align: middle;\n",
              "    }\n",
              "\n",
              "    .dataframe tbody tr th {\n",
              "        vertical-align: top;\n",
              "    }\n",
              "\n",
              "    .dataframe thead th {\n",
              "        text-align: right;\n",
              "    }\n",
              "</style>\n",
              "<table border=\"1\" class=\"dataframe\">\n",
              "  <thead>\n",
              "    <tr style=\"text-align: right;\">\n",
              "      <th></th>\n",
              "      <th>value</th>\n",
              "    </tr>\n",
              "  </thead>\n",
              "  <tbody>\n",
              "    <tr>\n",
              "      <th>2</th>\n",
              "      <td>168462</td>\n",
              "    </tr>\n",
              "    <tr>\n",
              "      <th>3</th>\n",
              "      <td>160182</td>\n",
              "    </tr>\n",
              "    <tr>\n",
              "      <th>4</th>\n",
              "      <td>181406</td>\n",
              "    </tr>\n",
              "    <tr>\n",
              "      <th>5</th>\n",
              "      <td>181595</td>\n",
              "    </tr>\n",
              "    <tr>\n",
              "      <th>6</th>\n",
              "      <td>162919</td>\n",
              "    </tr>\n",
              "    <tr>\n",
              "      <th>0</th>\n",
              "      <td>144583</td>\n",
              "    </tr>\n",
              "    <tr>\n",
              "      <th>1</th>\n",
              "      <td>34</td>\n",
              "    </tr>\n",
              "  </tbody>\n",
              "</table>\n",
              "</div>"
            ],
            "text/plain": [
              "    value\n",
              "2  168462\n",
              "3  160182\n",
              "4  181406\n",
              "5  181595\n",
              "6  162919\n",
              "0  144583\n",
              "1      34"
            ]
          },
          "metadata": {},
          "execution_count": 16
        }
      ]
    },
    {
      "cell_type": "markdown",
      "metadata": {
        "id": "Qp9DJoBvKmN7"
      },
      "source": [
        "Thống kê số lượng xe theo các ngày trong tuần."
      ]
    },
    {
      "cell_type": "code",
      "metadata": {
        "id": "sF-PMxHFu-n4"
      },
      "source": [
        "df=df.rename(columns={\"tpep_pickup_datetime\":\"day_of_week\"})"
      ],
      "execution_count": null,
      "outputs": []
    },
    {
      "cell_type": "markdown",
      "metadata": {
        "id": "yVYmEsC-LDnv"
      },
      "source": [
        "##tpep_dropoff_datetime"
      ]
    },
    {
      "cell_type": "markdown",
      "metadata": {
        "id": "r_SSuweBLISL"
      },
      "source": [
        "Loại bỏ thuộc tính 'tpep_dropoff_datetime' vì không cần sử dụng trong phân tích."
      ]
    },
    {
      "cell_type": "code",
      "metadata": {
        "id": "QOvoZjgavAFk"
      },
      "source": [
        "df.drop('tpep_dropoff_datetime',axis=1, inplace=True) # drop tpep_dropoff_datetime column"
      ],
      "execution_count": null,
      "outputs": []
    },
    {
      "cell_type": "markdown",
      "metadata": {
        "id": "hGUO9GObLvy0"
      },
      "source": [
        "##passenger_count"
      ]
    },
    {
      "cell_type": "markdown",
      "metadata": {
        "id": "ZtK869ZjLzbp"
      },
      "source": [
        "Loại bỏ đi những dữ liệu không phù hợp như các dữ liệu có số lượng 8,9 vì taxi tối đa là 7 hành khách. Dữ liệu ở cột 'passenger_count' là dữ liệu được tài xế nhập vào nên có thể có sai sót."
      ]
    },
    {
      "cell_type": "code",
      "metadata": {
        "id": "IV4KypQawuNw"
      },
      "source": [
        "# Loại bỏ các dữ liệu có số lượng passenger là 8,9 vì taxi tối đa là 7 hành khách.\n",
        "value_passenger=['9','8']  \n",
        "df=df[df.passenger_count.isin(value_passenger)==False]"
      ],
      "execution_count": null,
      "outputs": []
    },
    {
      "cell_type": "markdown",
      "metadata": {
        "id": "aNjdBXmSyazX"
      },
      "source": [
        "##total_amount"
      ]
    },
    {
      "cell_type": "markdown",
      "metadata": {
        "id": "wbuKVCCWzfZH"
      },
      "source": [
        "loại bỏ các giá trị tiền nhận được âm"
      ]
    },
    {
      "cell_type": "code",
      "metadata": {
        "id": "q1jUuynIycx8"
      },
      "source": [
        "df=df[(df['total_amount']>0)]"
      ],
      "execution_count": null,
      "outputs": []
    },
    {
      "cell_type": "markdown",
      "metadata": {
        "id": "A4gWfof0P1fe"
      },
      "source": [
        "##trip_distance"
      ]
    },
    {
      "cell_type": "markdown",
      "metadata": {
        "id": "bzNV1z7eQH8O"
      },
      "source": [
        "loại bỏ các giá trị khoảng cách âm "
      ]
    },
    {
      "cell_type": "code",
      "metadata": {
        "id": "7PU7XKiXP3rG"
      },
      "source": [
        "df=df[(df['trip_distance']>0)]"
      ],
      "execution_count": null,
      "outputs": []
    },
    {
      "cell_type": "code",
      "metadata": {
        "colab": {
          "base_uri": "https://localhost:8080/",
          "height": 383
        },
        "id": "cJp4TCbn-msv",
        "outputId": "ecc4d2c2-955c-4992-b600-191f67349140"
      },
      "source": [
        "df.head(10)"
      ],
      "execution_count": null,
      "outputs": [
        {
          "output_type": "execute_result",
          "data": {
            "text/html": [
              "<div>\n",
              "<style scoped>\n",
              "    .dataframe tbody tr th:only-of-type {\n",
              "        vertical-align: middle;\n",
              "    }\n",
              "\n",
              "    .dataframe tbody tr th {\n",
              "        vertical-align: top;\n",
              "    }\n",
              "\n",
              "    .dataframe thead th {\n",
              "        text-align: right;\n",
              "    }\n",
              "</style>\n",
              "<table border=\"1\" class=\"dataframe\">\n",
              "  <thead>\n",
              "    <tr style=\"text-align: right;\">\n",
              "      <th></th>\n",
              "      <th>vendorid</th>\n",
              "      <th>day_of_week</th>\n",
              "      <th>passenger_count</th>\n",
              "      <th>trip_distance</th>\n",
              "      <th>ratecodeid</th>\n",
              "      <th>store_and_fwd_flag</th>\n",
              "      <th>pulocationid</th>\n",
              "      <th>dolocationid</th>\n",
              "      <th>payment_type</th>\n",
              "      <th>fare_amount</th>\n",
              "      <th>extra</th>\n",
              "      <th>mta_tax</th>\n",
              "      <th>tip_amount</th>\n",
              "      <th>tolls_amount</th>\n",
              "      <th>improvement_surcharge</th>\n",
              "      <th>total_amount</th>\n",
              "      <th>congestion_surcharge</th>\n",
              "      <th>duration</th>\n",
              "      <th>time</th>\n",
              "    </tr>\n",
              "  </thead>\n",
              "  <tbody>\n",
              "    <tr>\n",
              "      <th>0</th>\n",
              "      <td>1</td>\n",
              "      <td>2</td>\n",
              "      <td>1</td>\n",
              "      <td>1.20</td>\n",
              "      <td>1</td>\n",
              "      <td>N</td>\n",
              "      <td>238</td>\n",
              "      <td>239</td>\n",
              "      <td>1</td>\n",
              "      <td>6.0</td>\n",
              "      <td>3</td>\n",
              "      <td>0.5</td>\n",
              "      <td>1.47</td>\n",
              "      <td>0.0</td>\n",
              "      <td>0.3</td>\n",
              "      <td>11.27</td>\n",
              "      <td>2.5</td>\n",
              "      <td>4.800000</td>\n",
              "      <td>0</td>\n",
              "    </tr>\n",
              "    <tr>\n",
              "      <th>1</th>\n",
              "      <td>1</td>\n",
              "      <td>2</td>\n",
              "      <td>1</td>\n",
              "      <td>1.20</td>\n",
              "      <td>1</td>\n",
              "      <td>N</td>\n",
              "      <td>239</td>\n",
              "      <td>238</td>\n",
              "      <td>1</td>\n",
              "      <td>7.0</td>\n",
              "      <td>3</td>\n",
              "      <td>0.5</td>\n",
              "      <td>1.50</td>\n",
              "      <td>0.0</td>\n",
              "      <td>0.3</td>\n",
              "      <td>12.30</td>\n",
              "      <td>2.5</td>\n",
              "      <td>7.416667</td>\n",
              "      <td>0</td>\n",
              "    </tr>\n",
              "    <tr>\n",
              "      <th>2</th>\n",
              "      <td>1</td>\n",
              "      <td>2</td>\n",
              "      <td>1</td>\n",
              "      <td>0.60</td>\n",
              "      <td>1</td>\n",
              "      <td>N</td>\n",
              "      <td>238</td>\n",
              "      <td>238</td>\n",
              "      <td>1</td>\n",
              "      <td>6.0</td>\n",
              "      <td>3</td>\n",
              "      <td>0.5</td>\n",
              "      <td>1.00</td>\n",
              "      <td>0.0</td>\n",
              "      <td>0.3</td>\n",
              "      <td>10.80</td>\n",
              "      <td>2.5</td>\n",
              "      <td>6.183333</td>\n",
              "      <td>0</td>\n",
              "    </tr>\n",
              "    <tr>\n",
              "      <th>3</th>\n",
              "      <td>1</td>\n",
              "      <td>2</td>\n",
              "      <td>1</td>\n",
              "      <td>0.80</td>\n",
              "      <td>1</td>\n",
              "      <td>N</td>\n",
              "      <td>238</td>\n",
              "      <td>151</td>\n",
              "      <td>1</td>\n",
              "      <td>5.5</td>\n",
              "      <td>0.5</td>\n",
              "      <td>0.5</td>\n",
              "      <td>1.36</td>\n",
              "      <td>0.0</td>\n",
              "      <td>0.3</td>\n",
              "      <td>8.16</td>\n",
              "      <td>0</td>\n",
              "      <td>4.850000</td>\n",
              "      <td>0</td>\n",
              "    </tr>\n",
              "    <tr>\n",
              "      <th>5</th>\n",
              "      <td>2</td>\n",
              "      <td>2</td>\n",
              "      <td>1</td>\n",
              "      <td>0.03</td>\n",
              "      <td>1</td>\n",
              "      <td>N</td>\n",
              "      <td>7</td>\n",
              "      <td>193</td>\n",
              "      <td>2</td>\n",
              "      <td>2.5</td>\n",
              "      <td>0.5</td>\n",
              "      <td>0.5</td>\n",
              "      <td>0.00</td>\n",
              "      <td>0.0</td>\n",
              "      <td>0.3</td>\n",
              "      <td>3.80</td>\n",
              "      <td>0</td>\n",
              "      <td>0.883333</td>\n",
              "      <td>0</td>\n",
              "    </tr>\n",
              "    <tr>\n",
              "      <th>9</th>\n",
              "      <td>1</td>\n",
              "      <td>2</td>\n",
              "      <td>2</td>\n",
              "      <td>0.70</td>\n",
              "      <td>1</td>\n",
              "      <td>N</td>\n",
              "      <td>246</td>\n",
              "      <td>48</td>\n",
              "      <td>1</td>\n",
              "      <td>8.0</td>\n",
              "      <td>3</td>\n",
              "      <td>0.5</td>\n",
              "      <td>2.35</td>\n",
              "      <td>0.0</td>\n",
              "      <td>0.3</td>\n",
              "      <td>14.15</td>\n",
              "      <td>2.5</td>\n",
              "      <td>11.450000</td>\n",
              "      <td>0</td>\n",
              "    </tr>\n",
              "    <tr>\n",
              "      <th>10</th>\n",
              "      <td>1</td>\n",
              "      <td>2</td>\n",
              "      <td>2</td>\n",
              "      <td>2.40</td>\n",
              "      <td>1</td>\n",
              "      <td>N</td>\n",
              "      <td>246</td>\n",
              "      <td>79</td>\n",
              "      <td>1</td>\n",
              "      <td>12.0</td>\n",
              "      <td>3</td>\n",
              "      <td>0.5</td>\n",
              "      <td>1.75</td>\n",
              "      <td>0.0</td>\n",
              "      <td>0.3</td>\n",
              "      <td>17.55</td>\n",
              "      <td>2.5</td>\n",
              "      <td>16.866667</td>\n",
              "      <td>0</td>\n",
              "    </tr>\n",
              "    <tr>\n",
              "      <th>11</th>\n",
              "      <td>1</td>\n",
              "      <td>2</td>\n",
              "      <td>1</td>\n",
              "      <td>0.80</td>\n",
              "      <td>1</td>\n",
              "      <td>N</td>\n",
              "      <td>163</td>\n",
              "      <td>161</td>\n",
              "      <td>2</td>\n",
              "      <td>9.5</td>\n",
              "      <td>3</td>\n",
              "      <td>0.5</td>\n",
              "      <td>0.00</td>\n",
              "      <td>0.0</td>\n",
              "      <td>0.3</td>\n",
              "      <td>13.30</td>\n",
              "      <td>2.5</td>\n",
              "      <td>14.433333</td>\n",
              "      <td>0</td>\n",
              "    </tr>\n",
              "    <tr>\n",
              "      <th>12</th>\n",
              "      <td>1</td>\n",
              "      <td>2</td>\n",
              "      <td>1</td>\n",
              "      <td>3.30</td>\n",
              "      <td>1</td>\n",
              "      <td>N</td>\n",
              "      <td>161</td>\n",
              "      <td>144</td>\n",
              "      <td>1</td>\n",
              "      <td>17.0</td>\n",
              "      <td>3</td>\n",
              "      <td>0.5</td>\n",
              "      <td>4.15</td>\n",
              "      <td>0.0</td>\n",
              "      <td>0.3</td>\n",
              "      <td>24.95</td>\n",
              "      <td>2.5</td>\n",
              "      <td>25.283333</td>\n",
              "      <td>0</td>\n",
              "    </tr>\n",
              "    <tr>\n",
              "      <th>13</th>\n",
              "      <td>2</td>\n",
              "      <td>2</td>\n",
              "      <td>1</td>\n",
              "      <td>1.07</td>\n",
              "      <td>1</td>\n",
              "      <td>N</td>\n",
              "      <td>43</td>\n",
              "      <td>239</td>\n",
              "      <td>1</td>\n",
              "      <td>6.0</td>\n",
              "      <td>0.5</td>\n",
              "      <td>0.5</td>\n",
              "      <td>1.96</td>\n",
              "      <td>0.0</td>\n",
              "      <td>0.3</td>\n",
              "      <td>11.76</td>\n",
              "      <td>2.5</td>\n",
              "      <td>5.616667</td>\n",
              "      <td>0</td>\n",
              "    </tr>\n",
              "  </tbody>\n",
              "</table>\n",
              "</div>"
            ],
            "text/plain": [
              "   vendorid  day_of_week passenger_count  ...  congestion_surcharge   duration time\n",
              "0         1            2               1  ...                   2.5   4.800000    0\n",
              "1         1            2               1  ...                   2.5   7.416667    0\n",
              "2         1            2               1  ...                   2.5   6.183333    0\n",
              "3         1            2               1  ...                     0   4.850000    0\n",
              "5         2            2               1  ...                     0   0.883333    0\n",
              "9         1            2               2  ...                   2.5  11.450000    0\n",
              "10        1            2               2  ...                   2.5  16.866667    0\n",
              "11        1            2               1  ...                   2.5  14.433333    0\n",
              "12        1            2               1  ...                   2.5  25.283333    0\n",
              "13        2            2               1  ...                   2.5   5.616667    0\n",
              "\n",
              "[10 rows x 19 columns]"
            ]
          },
          "metadata": {},
          "execution_count": 23
        }
      ]
    },
    {
      "cell_type": "code",
      "metadata": {
        "colab": {
          "base_uri": "https://localhost:8080/",
          "height": 320
        },
        "id": "3mVYlRZUyQa5",
        "outputId": "e815bf45-a404-4d53-c01a-a2a5aae5519e"
      },
      "source": [
        "df.describe()"
      ],
      "execution_count": null,
      "outputs": [
        {
          "output_type": "execute_result",
          "data": {
            "text/html": [
              "<div>\n",
              "<style scoped>\n",
              "    .dataframe tbody tr th:only-of-type {\n",
              "        vertical-align: middle;\n",
              "    }\n",
              "\n",
              "    .dataframe tbody tr th {\n",
              "        vertical-align: top;\n",
              "    }\n",
              "\n",
              "    .dataframe thead th {\n",
              "        text-align: right;\n",
              "    }\n",
              "</style>\n",
              "<table border=\"1\" class=\"dataframe\">\n",
              "  <thead>\n",
              "    <tr style=\"text-align: right;\">\n",
              "      <th></th>\n",
              "      <th>day_of_week</th>\n",
              "      <th>trip_distance</th>\n",
              "      <th>fare_amount</th>\n",
              "      <th>tip_amount</th>\n",
              "      <th>tolls_amount</th>\n",
              "      <th>total_amount</th>\n",
              "      <th>duration</th>\n",
              "      <th>time</th>\n",
              "    </tr>\n",
              "  </thead>\n",
              "  <tbody>\n",
              "    <tr>\n",
              "      <th>count</th>\n",
              "      <td>986174.000000</td>\n",
              "      <td>986174.000000</td>\n",
              "      <td>986174.000000</td>\n",
              "      <td>986174.000000</td>\n",
              "      <td>986174.000000</td>\n",
              "      <td>986174.000000</td>\n",
              "      <td>986174.000000</td>\n",
              "      <td>986174.000000</td>\n",
              "    </tr>\n",
              "    <tr>\n",
              "      <th>mean</th>\n",
              "      <td>3.433213</td>\n",
              "      <td>3.151618</td>\n",
              "      <td>12.792671</td>\n",
              "      <td>2.067237</td>\n",
              "      <td>0.376630</td>\n",
              "      <td>18.625335</td>\n",
              "      <td>15.821323</td>\n",
              "      <td>13.146253</td>\n",
              "    </tr>\n",
              "    <tr>\n",
              "      <th>std</th>\n",
              "      <td>1.912923</td>\n",
              "      <td>4.153618</td>\n",
              "      <td>12.196056</td>\n",
              "      <td>2.785432</td>\n",
              "      <td>1.921701</td>\n",
              "      <td>14.934993</td>\n",
              "      <td>68.638066</td>\n",
              "      <td>6.171590</td>\n",
              "    </tr>\n",
              "    <tr>\n",
              "      <th>min</th>\n",
              "      <td>0.000000</td>\n",
              "      <td>0.010000</td>\n",
              "      <td>0.000000</td>\n",
              "      <td>0.000000</td>\n",
              "      <td>0.000000</td>\n",
              "      <td>0.300000</td>\n",
              "      <td>0.016667</td>\n",
              "      <td>0.000000</td>\n",
              "    </tr>\n",
              "    <tr>\n",
              "      <th>25%</th>\n",
              "      <td>2.000000</td>\n",
              "      <td>1.000000</td>\n",
              "      <td>6.000000</td>\n",
              "      <td>0.000000</td>\n",
              "      <td>0.000000</td>\n",
              "      <td>10.800000</td>\n",
              "      <td>6.033333</td>\n",
              "      <td>9.000000</td>\n",
              "    </tr>\n",
              "    <tr>\n",
              "      <th>50%</th>\n",
              "      <td>4.000000</td>\n",
              "      <td>1.690000</td>\n",
              "      <td>9.000000</td>\n",
              "      <td>1.760000</td>\n",
              "      <td>0.000000</td>\n",
              "      <td>13.800000</td>\n",
              "      <td>9.916667</td>\n",
              "      <td>14.000000</td>\n",
              "    </tr>\n",
              "    <tr>\n",
              "      <th>75%</th>\n",
              "      <td>5.000000</td>\n",
              "      <td>3.180000</td>\n",
              "      <td>13.500000</td>\n",
              "      <td>2.750000</td>\n",
              "      <td>0.000000</td>\n",
              "      <td>19.550000</td>\n",
              "      <td>16.000000</td>\n",
              "      <td>18.000000</td>\n",
              "    </tr>\n",
              "    <tr>\n",
              "      <th>max</th>\n",
              "      <td>6.000000</td>\n",
              "      <td>259.220000</td>\n",
              "      <td>1238.000000</td>\n",
              "      <td>450.000000</td>\n",
              "      <td>910.500000</td>\n",
              "      <td>1242.300000</td>\n",
              "      <td>2458.400000</td>\n",
              "      <td>23.000000</td>\n",
              "    </tr>\n",
              "  </tbody>\n",
              "</table>\n",
              "</div>"
            ],
            "text/plain": [
              "         day_of_week  trip_distance  ...       duration           time\n",
              "count  986174.000000  986174.000000  ...  986174.000000  986174.000000\n",
              "mean        3.433213       3.151618  ...      15.821323      13.146253\n",
              "std         1.912923       4.153618  ...      68.638066       6.171590\n",
              "min         0.000000       0.010000  ...       0.016667       0.000000\n",
              "25%         2.000000       1.000000  ...       6.033333       9.000000\n",
              "50%         4.000000       1.690000  ...       9.916667      14.000000\n",
              "75%         5.000000       3.180000  ...      16.000000      18.000000\n",
              "max         6.000000     259.220000  ...    2458.400000      23.000000\n",
              "\n",
              "[8 rows x 8 columns]"
            ]
          },
          "metadata": {},
          "execution_count": 28
        }
      ]
    },
    {
      "cell_type": "markdown",
      "metadata": {
        "id": "NS_i6JsgxTd0"
      },
      "source": [
        "#Train model"
      ]
    },
    {
      "cell_type": "markdown",
      "metadata": {
        "id": "OOaznp05hmW5"
      },
      "source": [
        "##Random Forest"
      ]
    },
    {
      "cell_type": "code",
      "metadata": {
        "id": "ub2QTsNixRmg",
        "colab": {
          "base_uri": "https://localhost:8080/"
        },
        "outputId": "b351b61c-9d3f-44bc-cc37-18802e8a7d77"
      },
      "source": [
        "!pip install -q fastai --upgrade "
      ],
      "execution_count": null,
      "outputs": [
        {
          "output_type": "stream",
          "name": "stdout",
          "text": [
            "\u001b[?25l\r\u001b[K     |█▊                              | 10 kB 34.8 MB/s eta 0:00:01\r\u001b[K     |███▌                            | 20 kB 36.3 MB/s eta 0:00:01\r\u001b[K     |█████▏                          | 30 kB 22.5 MB/s eta 0:00:01\r\u001b[K     |███████                         | 40 kB 18.4 MB/s eta 0:00:01\r\u001b[K     |████████▋                       | 51 kB 8.0 MB/s eta 0:00:01\r\u001b[K     |██████████▍                     | 61 kB 8.4 MB/s eta 0:00:01\r\u001b[K     |████████████                    | 71 kB 7.5 MB/s eta 0:00:01\r\u001b[K     |█████████████▉                  | 81 kB 8.4 MB/s eta 0:00:01\r\u001b[K     |███████████████▋                | 92 kB 8.4 MB/s eta 0:00:01\r\u001b[K     |█████████████████▎              | 102 kB 7.6 MB/s eta 0:00:01\r\u001b[K     |███████████████████             | 112 kB 7.6 MB/s eta 0:00:01\r\u001b[K     |████████████████████▊           | 122 kB 7.6 MB/s eta 0:00:01\r\u001b[K     |██████████████████████▌         | 133 kB 7.6 MB/s eta 0:00:01\r\u001b[K     |████████████████████████▏       | 143 kB 7.6 MB/s eta 0:00:01\r\u001b[K     |██████████████████████████      | 153 kB 7.6 MB/s eta 0:00:01\r\u001b[K     |███████████████████████████▊    | 163 kB 7.6 MB/s eta 0:00:01\r\u001b[K     |█████████████████████████████▍  | 174 kB 7.6 MB/s eta 0:00:01\r\u001b[K     |███████████████████████████████▏| 184 kB 7.6 MB/s eta 0:00:01\r\u001b[K     |████████████████████████████████| 189 kB 7.6 MB/s \n",
            "\u001b[?25h\u001b[?25l\r\u001b[K     |█████▊                          | 10 kB 47.7 MB/s eta 0:00:01\r\u001b[K     |███████████▌                    | 20 kB 54.6 MB/s eta 0:00:01\r\u001b[K     |█████████████████▎              | 30 kB 63.4 MB/s eta 0:00:01\r\u001b[K     |███████████████████████         | 40 kB 67.9 MB/s eta 0:00:01\r\u001b[K     |████████████████████████████▉   | 51 kB 66.7 MB/s eta 0:00:01\r\u001b[K     |████████████████████████████████| 56 kB 5.5 MB/s \n",
            "\u001b[?25h"
          ]
        }
      ]
    },
    {
      "cell_type": "code",
      "metadata": {
        "id": "w1OLY7XjHjCs"
      },
      "source": [
        "# import \n",
        "from sklearn.ensemble import RandomForestRegressor\n",
        "from fastai.tabular.all import *\n",
        "import seaborn as sns \n",
        "import matplotlib.pyplot as plt"
      ],
      "execution_count": null,
      "outputs": []
    },
    {
      "cell_type": "code",
      "metadata": {
        "colab": {
          "base_uri": "https://localhost:8080/",
          "height": 387
        },
        "id": "HigivN064-PR",
        "outputId": "915180f6-4224-477d-8f32-7de64944bbf8"
      },
      "source": [
        "sns.distplot(df['total_amount'])"
      ],
      "execution_count": null,
      "outputs": [
        {
          "output_type": "stream",
          "name": "stderr",
          "text": [
            "/usr/local/lib/python3.7/dist-packages/seaborn/distributions.py:2619: FutureWarning:\n",
            "\n",
            "`distplot` is a deprecated function and will be removed in a future version. Please adapt your code to use either `displot` (a figure-level function with similar flexibility) or `histplot` (an axes-level function for histograms).\n",
            "\n"
          ]
        },
        {
          "output_type": "execute_result",
          "data": {
            "text/plain": [
              "<matplotlib.axes._subplots.AxesSubplot at 0x7f25f2f4d510>"
            ]
          },
          "metadata": {},
          "execution_count": 24
        },
        {
          "output_type": "display_data",
          "data": {
            "image/png": "[encoded data removed]",
            "text/plain": [
              "<Figure size 432x288 with 1 Axes>"
            ]
          },
          "metadata": {
            "needs_background": "light"
          }
        }
      ]
    },
    {
      "cell_type": "code",
      "metadata": {
        "id": "Ctx7QRTU5nZJ"
      },
      "source": [
        "df_100 = df[(df['total_amount']<100)]"
      ],
      "execution_count": null,
      "outputs": []
    },
    {
      "cell_type": "code",
      "metadata": {
        "id": "IBjquAdJISSZ",
        "colab": {
          "base_uri": "https://localhost:8080/"
        },
        "outputId": "ace2ed86-fe49-4773-97a3-65bbc9ac581e"
      },
      "source": [
        "df.shape"
      ],
      "execution_count": null,
      "outputs": [
        {
          "output_type": "execute_result",
          "data": {
            "text/plain": [
              "(986174, 19)"
            ]
          },
          "metadata": {},
          "execution_count": 28
        }
      ]
    },
    {
      "cell_type": "code",
      "metadata": {
        "colab": {
          "base_uri": "https://localhost:8080/"
        },
        "id": "F-UV_lb65vEN",
        "outputId": "2ff86576-de6c-4d26-f989-6753bc94c10e"
      },
      "source": [
        "df_100.shape, df.shape"
      ],
      "execution_count": null,
      "outputs": [
        {
          "output_type": "execute_result",
          "data": {
            "text/plain": [
              "((984355, 19), (986174, 19))"
            ]
          },
          "metadata": {},
          "execution_count": 26
        }
      ]
    },
    {
      "cell_type": "code",
      "metadata": {
        "id": "hWhncqgdxiKQ",
        "colab": {
          "base_uri": "https://localhost:8080/"
        },
        "outputId": "93cfdd8d-c771-4efd-8844-54a0f43a95ed"
      },
      "source": [
        "# tiền xử lý trước khi huấn luyện mô hình\n",
        "cat_vars =['vendorid','day_of_week','passenger_count','ratecodeid','store_and_fwd_flag','pulocationid','dolocationid','payment_type','extra',\n",
        "           'mta_tax','improvement_surcharge', 'congestion_surcharge'] # các biến phân loại\n",
        "cont_vars =['trip_distance','fare_amount','tip_amount','tolls_amount','duration','time'] #các biến liên tục\n",
        "dep_var = 'total_amount' # biến phụ thuộc\n",
        "procs = [Categorify,Normalize] # chuyển các biến phân loại về dạng Category\n",
        "splits = RandomSplitter(valid_pct=0.2,seed=42)(range_of(df_100)) # chia 20% cho tập valid\n",
        "to = TabularPandas(df_100, procs, cat_vars, cont_vars, dep_var, y_block=RegressionBlock(),\n",
        "                   splits=splits, inplace=True, reduce_memory=True)"
      ],
      "execution_count": null,
      "outputs": [
        {
          "output_type": "stream",
          "name": "stderr",
          "text": [
            "/usr/local/lib/python3.7/dist-packages/fastai/tabular/core.py:148: UserWarning:\n",
            "\n",
            "Using inplace with splits will trigger a pandas error. Set `pd.options.mode.chained_assignment=None` to avoid it.\n",
            "\n"
          ]
        }
      ]
    },
    {
      "cell_type": "code",
      "metadata": {
        "colab": {
          "base_uri": "https://localhost:8080/"
        },
        "id": "SqF5ksaMzUXa",
        "outputId": "2c21d562-bd64-4be1-ab04-385e632190e7"
      },
      "source": [
        "len(to.train), len(to.valid)"
      ],
      "execution_count": null,
      "outputs": [
        {
          "output_type": "execute_result",
          "data": {
            "text/plain": [
              "(787484, 196871)"
            ]
          },
          "metadata": {},
          "execution_count": 29
        }
      ]
    },
    {
      "cell_type": "code",
      "metadata": {
        "colab": {
          "base_uri": "https://localhost:8080/",
          "height": 163
        },
        "id": "LkYUVhfEK1F7",
        "outputId": "2af69b3d-eb29-4814-d2f6-70d3a19049df"
      },
      "source": [
        "to.show(3) # df trước khi xử lý"
      ],
      "execution_count": null,
      "outputs": [
        {
          "output_type": "display_data",
          "data": {
            "text/html": [
              "<table border=\"1\" class=\"dataframe\">\n",
              "  <thead>\n",
              "    <tr style=\"text-align: right;\">\n",
              "      <th></th>\n",
              "      <th>vendorid</th>\n",
              "      <th>day_of_week</th>\n",
              "      <th>passenger_count</th>\n",
              "      <th>ratecodeid</th>\n",
              "      <th>store_and_fwd_flag</th>\n",
              "      <th>pulocationid</th>\n",
              "      <th>dolocationid</th>\n",
              "      <th>payment_type</th>\n",
              "      <th>extra</th>\n",
              "      <th>mta_tax</th>\n",
              "      <th>improvement_surcharge</th>\n",
              "      <th>congestion_surcharge</th>\n",
              "      <th>trip_distance</th>\n",
              "      <th>fare_amount</th>\n",
              "      <th>tip_amount</th>\n",
              "      <th>tolls_amount</th>\n",
              "      <th>duration</th>\n",
              "      <th>time</th>\n",
              "      <th>total_amount</th>\n",
              "    </tr>\n",
              "  </thead>\n",
              "  <tbody>\n",
              "    <tr>\n",
              "      <th>34294</th>\n",
              "      <td>1</td>\n",
              "      <td>2</td>\n",
              "      <td>0</td>\n",
              "      <td>1</td>\n",
              "      <td>N</td>\n",
              "      <td>239</td>\n",
              "      <td>41</td>\n",
              "      <td>1</td>\n",
              "      <td>3</td>\n",
              "      <td>0.5</td>\n",
              "      <td>0.3</td>\n",
              "      <td>2.5</td>\n",
              "      <td>1.90</td>\n",
              "      <td>8.0</td>\n",
              "      <td>2.00</td>\n",
              "      <td>0.0</td>\n",
              "      <td>7.300000</td>\n",
              "      <td>2.0</td>\n",
              "      <td>13.800000</td>\n",
              "    </tr>\n",
              "    <tr>\n",
              "      <th>689928</th>\n",
              "      <td>2</td>\n",
              "      <td>5</td>\n",
              "      <td>1</td>\n",
              "      <td>1</td>\n",
              "      <td>N</td>\n",
              "      <td>79</td>\n",
              "      <td>233</td>\n",
              "      <td>1</td>\n",
              "      <td>0.5</td>\n",
              "      <td>0.5</td>\n",
              "      <td>0.3</td>\n",
              "      <td>2.5</td>\n",
              "      <td>3.85</td>\n",
              "      <td>14.5</td>\n",
              "      <td>3.66</td>\n",
              "      <td>0.0</td>\n",
              "      <td>14.133333</td>\n",
              "      <td>23.0</td>\n",
              "      <td>21.959999</td>\n",
              "    </tr>\n",
              "    <tr>\n",
              "      <th>455026</th>\n",
              "      <td>1</td>\n",
              "      <td>4</td>\n",
              "      <td>2</td>\n",
              "      <td>1</td>\n",
              "      <td>N</td>\n",
              "      <td>43</td>\n",
              "      <td>43</td>\n",
              "      <td>1</td>\n",
              "      <td>3.5</td>\n",
              "      <td>0.5</td>\n",
              "      <td>0.3</td>\n",
              "      <td>2.5</td>\n",
              "      <td>2.20</td>\n",
              "      <td>8.5</td>\n",
              "      <td>3.50</td>\n",
              "      <td>0.0</td>\n",
              "      <td>6.983333</td>\n",
              "      <td>18.0</td>\n",
              "      <td>16.299999</td>\n",
              "    </tr>\n",
              "  </tbody>\n",
              "</table>"
            ],
            "text/plain": [
              "<IPython.core.display.HTML object>"
            ]
          },
          "metadata": {}
        }
      ]
    },
    {
      "cell_type": "code",
      "metadata": {
        "colab": {
          "base_uri": "https://localhost:8080/",
          "height": 163
        },
        "id": "BBjLclN6Lr5Z",
        "outputId": "be480fd3-32a6-4a7b-ab72-b7d5ba3d0987"
      },
      "source": [
        "to.items.head(3) # df sau khi xử lý"
      ],
      "execution_count": null,
      "outputs": [
        {
          "output_type": "execute_result",
          "data": {
            "text/html": [
              "<div>\n",
              "<style scoped>\n",
              "    .dataframe tbody tr th:only-of-type {\n",
              "        vertical-align: middle;\n",
              "    }\n",
              "\n",
              "    .dataframe tbody tr th {\n",
              "        vertical-align: top;\n",
              "    }\n",
              "\n",
              "    .dataframe thead th {\n",
              "        text-align: right;\n",
              "    }\n",
              "</style>\n",
              "<table border=\"1\" class=\"dataframe\">\n",
              "  <thead>\n",
              "    <tr style=\"text-align: right;\">\n",
              "      <th></th>\n",
              "      <th>vendorid</th>\n",
              "      <th>day_of_week</th>\n",
              "      <th>passenger_count</th>\n",
              "      <th>trip_distance</th>\n",
              "      <th>ratecodeid</th>\n",
              "      <th>store_and_fwd_flag</th>\n",
              "      <th>pulocationid</th>\n",
              "      <th>dolocationid</th>\n",
              "      <th>payment_type</th>\n",
              "      <th>fare_amount</th>\n",
              "      <th>extra</th>\n",
              "      <th>mta_tax</th>\n",
              "      <th>tip_amount</th>\n",
              "      <th>tolls_amount</th>\n",
              "      <th>improvement_surcharge</th>\n",
              "      <th>total_amount</th>\n",
              "      <th>congestion_surcharge</th>\n",
              "      <th>duration</th>\n",
              "      <th>time</th>\n",
              "    </tr>\n",
              "  </thead>\n",
              "  <tbody>\n",
              "    <tr>\n",
              "      <th>34294</th>\n",
              "      <td>1</td>\n",
              "      <td>3</td>\n",
              "      <td>1</td>\n",
              "      <td>-0.302546</td>\n",
              "      <td>1</td>\n",
              "      <td>1</td>\n",
              "      <td>144</td>\n",
              "      <td>197</td>\n",
              "      <td>1</td>\n",
              "      <td>-0.411887</td>\n",
              "      <td>12</td>\n",
              "      <td>2</td>\n",
              "      <td>-0.015886</td>\n",
              "      <td>-0.230018</td>\n",
              "      <td>2</td>\n",
              "      <td>13.800000</td>\n",
              "      <td>3</td>\n",
              "      <td>-0.123529</td>\n",
              "      <td>-1.807028</td>\n",
              "    </tr>\n",
              "    <tr>\n",
              "      <th>689928</th>\n",
              "      <td>2</td>\n",
              "      <td>6</td>\n",
              "      <td>2</td>\n",
              "      <td>0.184978</td>\n",
              "      <td>1</td>\n",
              "      <td>1</td>\n",
              "      <td>225</td>\n",
              "      <td>145</td>\n",
              "      <td>1</td>\n",
              "      <td>0.168658</td>\n",
              "      <td>3</td>\n",
              "      <td>2</td>\n",
              "      <td>0.636767</td>\n",
              "      <td>-0.230018</td>\n",
              "      <td>2</td>\n",
              "      <td>21.959999</td>\n",
              "      <td>3</td>\n",
              "      <td>-0.023546</td>\n",
              "      <td>1.596542</td>\n",
              "    </tr>\n",
              "    <tr>\n",
              "      <th>455026</th>\n",
              "      <td>1</td>\n",
              "      <td>5</td>\n",
              "      <td>3</td>\n",
              "      <td>-0.227543</td>\n",
              "      <td>1</td>\n",
              "      <td>1</td>\n",
              "      <td>189</td>\n",
              "      <td>199</td>\n",
              "      <td>1</td>\n",
              "      <td>-0.367230</td>\n",
              "      <td>13</td>\n",
              "      <td>2</td>\n",
              "      <td>0.573861</td>\n",
              "      <td>-0.230018</td>\n",
              "      <td>2</td>\n",
              "      <td>16.299999</td>\n",
              "      <td>3</td>\n",
              "      <td>-0.128162</td>\n",
              "      <td>0.786168</td>\n",
              "    </tr>\n",
              "  </tbody>\n",
              "</table>\n",
              "</div>"
            ],
            "text/plain": [
              "        vendorid  day_of_week  ...  duration      time\n",
              "34294          1            3  ... -0.123529 -1.807028\n",
              "689928         2            6  ... -0.023546  1.596542\n",
              "455026         1            5  ... -0.128162  0.786168\n",
              "\n",
              "[3 rows x 19 columns]"
            ]
          },
          "metadata": {},
          "execution_count": 31
        }
      ]
    },
    {
      "cell_type": "code",
      "metadata": {
        "id": "BfSmwvmpMus3"
      },
      "source": [
        "xs, y = to.train.xs, to.train.y\n",
        "valid_xs , valid_y = to.valid.xs, to.valid.y"
      ],
      "execution_count": null,
      "outputs": []
    },
    {
      "cell_type": "code",
      "metadata": {
        "colab": {
          "base_uri": "https://localhost:8080/"
        },
        "id": "oCoW8uHGN6rJ",
        "outputId": "b329585e-26f2-412e-8879-fe9b3df11029"
      },
      "source": [
        "xs.shape, y.shape"
      ],
      "execution_count": null,
      "outputs": [
        {
          "output_type": "execute_result",
          "data": {
            "text/plain": [
              "((787484, 18), (787484,))"
            ]
          },
          "metadata": {},
          "execution_count": 33
        }
      ]
    },
    {
      "cell_type": "code",
      "metadata": {
        "id": "i0oU9YMVNePZ"
      },
      "source": [
        "def r_mse(pred,y): return round(math.sqrt(((pred-y)**2).mean()), 5)"
      ],
      "execution_count": null,
      "outputs": []
    },
    {
      "cell_type": "code",
      "metadata": {
        "colab": {
          "base_uri": "https://localhost:8080/"
        },
        "id": "2SOfEy2hDUq5",
        "outputId": "d54e172a-9cb2-4a65-f21d-8a69a6ffb46f"
      },
      "source": [
        "rf = RandomForestRegressor(n_jobs=-1, n_estimators=40,max_samples=0.5, max_features=0.5,min_samples_leaf=10, oob_score=True) # model\n",
        "rf.fit(xs, y)"
      ],
      "execution_count": null,
      "outputs": [
        {
          "output_type": "stream",
          "name": "stderr",
          "text": [
            "/usr/local/lib/python3.7/dist-packages/sklearn/base.py:446: UserWarning:\n",
            "\n",
            "X does not have valid feature names, but RandomForestRegressor was fitted with feature names\n",
            "\n"
          ]
        },
        {
          "output_type": "execute_result",
          "data": {
            "text/plain": [
              "RandomForestRegressor(max_features=0.5, max_samples=0.5, min_samples_leaf=10,\n",
              "                      n_estimators=40, n_jobs=-1, oob_score=True)"
            ]
          },
          "metadata": {},
          "execution_count": 35
        }
      ]
    },
    {
      "cell_type": "code",
      "metadata": {
        "colab": {
          "base_uri": "https://localhost:8080/"
        },
        "id": "nig3lXCoOYVW",
        "outputId": "87b755c8-87bc-4cb1-ce23-6ea2ac6a00cb"
      },
      "source": [
        "r_mse(rf.predict(xs),y), r_mse(rf.predict(valid_xs),valid_y) # RMSE score"
      ],
      "execution_count": null,
      "outputs": [
        {
          "output_type": "execute_result",
          "data": {
            "text/plain": [
              "(0.41517, 0.45419)"
            ]
          },
          "metadata": {},
          "execution_count": 36
        }
      ]
    },
    {
      "cell_type": "code",
      "metadata": {
        "colab": {
          "base_uri": "https://localhost:8080/"
        },
        "id": "80UMc9tIDmym",
        "outputId": "b36ba352-a331-46fe-fd73-c057590453b0"
      },
      "source": [
        "r_mse(rf.oob_prediction_,y)"
      ],
      "execution_count": null,
      "outputs": [
        {
          "output_type": "execute_result",
          "data": {
            "text/plain": [
              "0.45289"
            ]
          },
          "metadata": {},
          "execution_count": 37
        }
      ]
    },
    {
      "cell_type": "code",
      "metadata": {
        "colab": {
          "base_uri": "https://localhost:8080/",
          "height": 510
        },
        "id": "5ITbPvvHY5rp",
        "outputId": "f40b7708-07d5-42e8-91c2-e63b8a0c6c63"
      },
      "source": [
        "fig, axes = plt.subplots(1, 1, figsize = (10, 5))\n",
        "ax1 = sns.distplot(valid_y, hist=False, color=\"r\", label=\"Actual Value\")\n",
        "sns.distplot(rf.predict(valid_xs), hist = False, color = 'b', label = 'Fitted Values', ax = ax1)\n",
        "plt.title(\"Model with full data\")\n",
        "plt.show()"
      ],
      "execution_count": null,
      "outputs": [
        {
          "output_type": "stream",
          "name": "stderr",
          "text": [
            "/usr/local/lib/python3.7/dist-packages/seaborn/distributions.py:2619: FutureWarning:\n",
            "\n",
            "`distplot` is a deprecated function and will be removed in a future version. Please adapt your code to use either `displot` (a figure-level function with similar flexibility) or `kdeplot` (an axes-level function for kernel density plots).\n",
            "\n",
            "/usr/local/lib/python3.7/dist-packages/seaborn/distributions.py:2619: FutureWarning:\n",
            "\n",
            "`distplot` is a deprecated function and will be removed in a future version. Please adapt your code to use either `displot` (a figure-level function with similar flexibility) or `kdeplot` (an axes-level function for kernel density plots).\n",
            "\n"
          ]
        },
        {
          "output_type": "display_data",
          "data": {
            "image/png": "[encoded data removed]",
            "text/plain": [
              "<Figure size 720x360 with 1 Axes>"
            ]
          },
          "metadata": {
            "needs_background": "light"
          }
        }
      ]
    },
    {
      "cell_type": "markdown",
      "metadata": {
        "id": "yrRnoEYhYI8P"
      },
      "source": [
        "## Random Forest on data_dropped"
      ]
    },
    {
      "cell_type": "code",
      "metadata": {
        "colab": {
          "base_uri": "https://localhost:8080/"
        },
        "id": "L_mur-6eJTXN",
        "outputId": "c3e63798-c5ee-4aaf-dd3c-b2e0ff0b2061"
      },
      "source": [
        "xs_dr = xs.drop(['vendorid','store_and_fwd_flag','payment_type','day_of_week','improvement_surcharge','time','passenger_count','duration'],axis=1)\n",
        "valid_xs_dr = valid_xs.drop(['vendorid','store_and_fwd_flag','payment_type','day_of_week','improvement_surcharge','time','passenger_count','payment_type','duration'],axis=1)\n",
        "rf_dr = RandomForestRegressor(n_jobs=-1, n_estimators=40,max_samples=0.5, max_features=0.5,min_samples_leaf=10, oob_score=True) # model\n",
        "rf_dr.fit(xs_dr, y)\n",
        "r_mse(rf_dr.predict(xs_dr),y),r_mse(rf_dr.predict(valid_xs_dr), valid_y)"
      ],
      "execution_count": null,
      "outputs": [
        {
          "output_type": "stream",
          "name": "stderr",
          "text": [
            "/usr/local/lib/python3.7/dist-packages/sklearn/base.py:446: UserWarning:\n",
            "\n",
            "X does not have valid feature names, but RandomForestRegressor was fitted with feature names\n",
            "\n"
          ]
        },
        {
          "output_type": "execute_result",
          "data": {
            "text/plain": [
              "(0.41174, 0.45106)"
            ]
          },
          "metadata": {},
          "execution_count": 40
        }
      ]
    },
    {
      "cell_type": "code",
      "metadata": {
        "colab": {
          "base_uri": "https://localhost:8080/"
        },
        "id": "zZpxmWnvLTr9",
        "outputId": "c18d5b67-53e0-4eae-f7fc-36da08be640b"
      },
      "source": [
        "r_mse(rf_dr.oob_prediction_, y)"
      ],
      "execution_count": null,
      "outputs": [
        {
          "output_type": "execute_result",
          "data": {
            "text/plain": [
              "0.44888"
            ]
          },
          "metadata": {},
          "execution_count": 42
        }
      ]
    },
    {
      "cell_type": "code",
      "metadata": {
        "colab": {
          "base_uri": "https://localhost:8080/",
          "height": 510
        },
        "id": "PFVKZ5XIYYMv",
        "outputId": "de3aa09f-fc68-4518-82ec-9572cbd873f3"
      },
      "source": [
        "fig, axes = plt.subplots(1, 1, figsize = (10, 5))\n",
        "ax1 = sns.distplot(valid_y, hist=False, color=\"r\", label=\"Actual Value\")\n",
        "sns.distplot(rf_dr.predict(valid_xs_dr), hist = False, color = 'b', label = 'Fitted Values', ax = ax1)\n",
        "plt.title(\"Model with dropped data\")\n",
        "plt.show()"
      ],
      "execution_count": null,
      "outputs": [
        {
          "output_type": "stream",
          "name": "stderr",
          "text": [
            "/usr/local/lib/python3.7/dist-packages/seaborn/distributions.py:2619: FutureWarning:\n",
            "\n",
            "`distplot` is a deprecated function and will be removed in a future version. Please adapt your code to use either `displot` (a figure-level function with similar flexibility) or `kdeplot` (an axes-level function for kernel density plots).\n",
            "\n",
            "/usr/local/lib/python3.7/dist-packages/seaborn/distributions.py:2619: FutureWarning:\n",
            "\n",
            "`distplot` is a deprecated function and will be removed in a future version. Please adapt your code to use either `displot` (a figure-level function with similar flexibility) or `kdeplot` (an axes-level function for kernel density plots).\n",
            "\n"
          ]
        },
        {
          "output_type": "display_data",
          "data": {
            "image/png": "[encoded data removed]",
            "text/plain": [
              "<Figure size 720x360 with 1 Axes>"
            ]
          },
          "metadata": {
            "needs_background": "light"
          }
        }
      ]
    },
    {
      "cell_type": "code",
      "metadata": {
        "id": "JDIxHRoiwL8h"
      },
      "source": [
        "save_pickle('rf_dropped_model.pkl',rf_dr) # lưu model\n",
        "save_pickle('rf_model.pkl',rf)"
      ],
      "execution_count": null,
      "outputs": []
    },
    {
      "cell_type": "markdown",
      "metadata": {
        "id": "99hpmTPa4qSL"
      },
      "source": [
        "## Neuron Network"
      ]
    },
    {
      "cell_type": "code",
      "metadata": {
        "id": "0TBThoP02dgi"
      },
      "source": [
        "dls = to.dataloaders(batch_size=1024) # đưa data vào dataloaders với bs =1024"
      ],
      "execution_count": null,
      "outputs": []
    },
    {
      "cell_type": "code",
      "metadata": {
        "colab": {
          "base_uri": "https://localhost:8080/",
          "height": 163
        },
        "id": "iyxZ-n4EvVQX",
        "outputId": "2c3af810-9a68-4aac-aee8-ca44a1919204"
      },
      "source": [
        "to.cats.head(3)"
      ],
      "execution_count": null,
      "outputs": [
        {
          "output_type": "execute_result",
          "data": {
            "text/html": [
              "<div>\n",
              "<style scoped>\n",
              "    .dataframe tbody tr th:only-of-type {\n",
              "        vertical-align: middle;\n",
              "    }\n",
              "\n",
              "    .dataframe tbody tr th {\n",
              "        vertical-align: top;\n",
              "    }\n",
              "\n",
              "    .dataframe thead th {\n",
              "        text-align: right;\n",
              "    }\n",
              "</style>\n",
              "<table border=\"1\" class=\"dataframe\">\n",
              "  <thead>\n",
              "    <tr style=\"text-align: right;\">\n",
              "      <th></th>\n",
              "      <th>vendorid</th>\n",
              "      <th>day_of_week</th>\n",
              "      <th>passenger_count</th>\n",
              "      <th>ratecodeid</th>\n",
              "      <th>store_and_fwd_flag</th>\n",
              "      <th>pulocationid</th>\n",
              "      <th>dolocationid</th>\n",
              "      <th>payment_type</th>\n",
              "      <th>extra</th>\n",
              "      <th>mta_tax</th>\n",
              "      <th>improvement_surcharge</th>\n",
              "      <th>congestion_surcharge</th>\n",
              "    </tr>\n",
              "  </thead>\n",
              "  <tbody>\n",
              "    <tr>\n",
              "      <th>34294</th>\n",
              "      <td>1</td>\n",
              "      <td>3</td>\n",
              "      <td>1</td>\n",
              "      <td>1</td>\n",
              "      <td>1</td>\n",
              "      <td>144</td>\n",
              "      <td>197</td>\n",
              "      <td>1</td>\n",
              "      <td>12</td>\n",
              "      <td>2</td>\n",
              "      <td>2</td>\n",
              "      <td>3</td>\n",
              "    </tr>\n",
              "    <tr>\n",
              "      <th>689928</th>\n",
              "      <td>2</td>\n",
              "      <td>6</td>\n",
              "      <td>2</td>\n",
              "      <td>1</td>\n",
              "      <td>1</td>\n",
              "      <td>225</td>\n",
              "      <td>145</td>\n",
              "      <td>1</td>\n",
              "      <td>3</td>\n",
              "      <td>2</td>\n",
              "      <td>2</td>\n",
              "      <td>3</td>\n",
              "    </tr>\n",
              "    <tr>\n",
              "      <th>455026</th>\n",
              "      <td>1</td>\n",
              "      <td>5</td>\n",
              "      <td>3</td>\n",
              "      <td>1</td>\n",
              "      <td>1</td>\n",
              "      <td>189</td>\n",
              "      <td>199</td>\n",
              "      <td>1</td>\n",
              "      <td>13</td>\n",
              "      <td>2</td>\n",
              "      <td>2</td>\n",
              "      <td>3</td>\n",
              "    </tr>\n",
              "  </tbody>\n",
              "</table>\n",
              "</div>"
            ],
            "text/plain": [
              "        vendorid  day_of_week  ...  improvement_surcharge  congestion_surcharge\n",
              "34294          1            3  ...                      2                     3\n",
              "689928         2            6  ...                      2                     3\n",
              "455026         1            5  ...                      2                     3\n",
              "\n",
              "[3 rows x 12 columns]"
            ]
          },
          "metadata": {},
          "execution_count": 49
        }
      ]
    },
    {
      "cell_type": "code",
      "metadata": {
        "colab": {
          "base_uri": "https://localhost:8080/",
          "height": 143
        },
        "id": "8PqP-j8HGppk",
        "outputId": "7168a29e-82a3-4c50-adc7-20d239f51bcc"
      },
      "source": [
        "to.conts.head(3)"
      ],
      "execution_count": null,
      "outputs": [
        {
          "output_type": "execute_result",
          "data": {
            "text/html": [
              "<div>\n",
              "<style scoped>\n",
              "    .dataframe tbody tr th:only-of-type {\n",
              "        vertical-align: middle;\n",
              "    }\n",
              "\n",
              "    .dataframe tbody tr th {\n",
              "        vertical-align: top;\n",
              "    }\n",
              "\n",
              "    .dataframe thead th {\n",
              "        text-align: right;\n",
              "    }\n",
              "</style>\n",
              "<table border=\"1\" class=\"dataframe\">\n",
              "  <thead>\n",
              "    <tr style=\"text-align: right;\">\n",
              "      <th></th>\n",
              "      <th>trip_distance</th>\n",
              "      <th>fare_amount</th>\n",
              "      <th>tip_amount</th>\n",
              "      <th>tolls_amount</th>\n",
              "      <th>duration</th>\n",
              "      <th>time</th>\n",
              "    </tr>\n",
              "  </thead>\n",
              "  <tbody>\n",
              "    <tr>\n",
              "      <th>34294</th>\n",
              "      <td>-0.302546</td>\n",
              "      <td>-0.411887</td>\n",
              "      <td>-0.015886</td>\n",
              "      <td>-0.230018</td>\n",
              "      <td>-0.123529</td>\n",
              "      <td>-1.807028</td>\n",
              "    </tr>\n",
              "    <tr>\n",
              "      <th>689928</th>\n",
              "      <td>0.184978</td>\n",
              "      <td>0.168658</td>\n",
              "      <td>0.636767</td>\n",
              "      <td>-0.230018</td>\n",
              "      <td>-0.023546</td>\n",
              "      <td>1.596542</td>\n",
              "    </tr>\n",
              "    <tr>\n",
              "      <th>455026</th>\n",
              "      <td>-0.227543</td>\n",
              "      <td>-0.367230</td>\n",
              "      <td>0.573861</td>\n",
              "      <td>-0.230018</td>\n",
              "      <td>-0.128162</td>\n",
              "      <td>0.786168</td>\n",
              "    </tr>\n",
              "  </tbody>\n",
              "</table>\n",
              "</div>"
            ],
            "text/plain": [
              "        trip_distance  fare_amount  ...  duration      time\n",
              "34294       -0.302546    -0.411887  ... -0.123529 -1.807028\n",
              "689928       0.184978     0.168658  ... -0.023546  1.596542\n",
              "455026      -0.227543    -0.367230  ... -0.128162  0.786168\n",
              "\n",
              "[3 rows x 6 columns]"
            ]
          },
          "metadata": {},
          "execution_count": 50
        }
      ]
    },
    {
      "cell_type": "code",
      "metadata": {
        "colab": {
          "base_uri": "https://localhost:8080/",
          "height": 487
        },
        "id": "K_SWsWyYvqGh",
        "outputId": "210b3472-afaa-4d14-91fd-20bfb7b08031"
      },
      "source": [
        "dls.show_batch()"
      ],
      "execution_count": null,
      "outputs": [
        {
          "output_type": "display_data",
          "data": {
            "text/html": [
              "<table border=\"1\" class=\"dataframe\">\n",
              "  <thead>\n",
              "    <tr style=\"text-align: right;\">\n",
              "      <th></th>\n",
              "      <th>vendorid</th>\n",
              "      <th>day_of_week</th>\n",
              "      <th>passenger_count</th>\n",
              "      <th>ratecodeid</th>\n",
              "      <th>store_and_fwd_flag</th>\n",
              "      <th>pulocationid</th>\n",
              "      <th>dolocationid</th>\n",
              "      <th>payment_type</th>\n",
              "      <th>extra</th>\n",
              "      <th>mta_tax</th>\n",
              "      <th>improvement_surcharge</th>\n",
              "      <th>congestion_surcharge</th>\n",
              "      <th>trip_distance</th>\n",
              "      <th>fare_amount</th>\n",
              "      <th>tip_amount</th>\n",
              "      <th>tolls_amount</th>\n",
              "      <th>duration</th>\n",
              "      <th>time</th>\n",
              "      <th>total_amount</th>\n",
              "    </tr>\n",
              "  </thead>\n",
              "  <tbody>\n",
              "    <tr>\n",
              "      <th>0</th>\n",
              "      <td>2</td>\n",
              "      <td>0</td>\n",
              "      <td>3</td>\n",
              "      <td>1</td>\n",
              "      <td>N</td>\n",
              "      <td>48</td>\n",
              "      <td>163</td>\n",
              "      <td>1</td>\n",
              "      <td>0</td>\n",
              "      <td>0.5</td>\n",
              "      <td>0.3</td>\n",
              "      <td>2.5</td>\n",
              "      <td>1.54</td>\n",
              "      <td>7.500000</td>\n",
              "      <td>2.160000e+00</td>\n",
              "      <td>-2.278336e-09</td>\n",
              "      <td>8.066666</td>\n",
              "      <td>9.0</td>\n",
              "      <td>12.960000</td>\n",
              "    </tr>\n",
              "    <tr>\n",
              "      <th>1</th>\n",
              "      <td>2</td>\n",
              "      <td>5</td>\n",
              "      <td>5</td>\n",
              "      <td>1</td>\n",
              "      <td>N</td>\n",
              "      <td>90</td>\n",
              "      <td>256</td>\n",
              "      <td>1</td>\n",
              "      <td>0.5</td>\n",
              "      <td>0.5</td>\n",
              "      <td>0.3</td>\n",
              "      <td>2.5</td>\n",
              "      <td>4.88</td>\n",
              "      <td>19.500000</td>\n",
              "      <td>-4.218575e-08</td>\n",
              "      <td>-2.278336e-09</td>\n",
              "      <td>23.133333</td>\n",
              "      <td>1.0</td>\n",
              "      <td>23.299999</td>\n",
              "    </tr>\n",
              "    <tr>\n",
              "      <th>2</th>\n",
              "      <td>2</td>\n",
              "      <td>4</td>\n",
              "      <td>1</td>\n",
              "      <td>1</td>\n",
              "      <td>N</td>\n",
              "      <td>79</td>\n",
              "      <td>232</td>\n",
              "      <td>1</td>\n",
              "      <td>0</td>\n",
              "      <td>0.5</td>\n",
              "      <td>0.3</td>\n",
              "      <td>2.5</td>\n",
              "      <td>1.34</td>\n",
              "      <td>7.000000</td>\n",
              "      <td>2.000000e+00</td>\n",
              "      <td>-2.278336e-09</td>\n",
              "      <td>7.566667</td>\n",
              "      <td>7.0</td>\n",
              "      <td>12.300000</td>\n",
              "    </tr>\n",
              "    <tr>\n",
              "      <th>3</th>\n",
              "      <td>2</td>\n",
              "      <td>6</td>\n",
              "      <td>1</td>\n",
              "      <td>1</td>\n",
              "      <td>N</td>\n",
              "      <td>48</td>\n",
              "      <td>177</td>\n",
              "      <td>2</td>\n",
              "      <td>0.5</td>\n",
              "      <td>0.5</td>\n",
              "      <td>0.3</td>\n",
              "      <td>2.5</td>\n",
              "      <td>10.63</td>\n",
              "      <td>33.000000</td>\n",
              "      <td>-4.218575e-08</td>\n",
              "      <td>-2.278336e-09</td>\n",
              "      <td>33.349997</td>\n",
              "      <td>23.0</td>\n",
              "      <td>36.799999</td>\n",
              "    </tr>\n",
              "    <tr>\n",
              "      <th>4</th>\n",
              "      <td>1</td>\n",
              "      <td>6</td>\n",
              "      <td>1</td>\n",
              "      <td>1</td>\n",
              "      <td>N</td>\n",
              "      <td>87</td>\n",
              "      <td>50</td>\n",
              "      <td>1</td>\n",
              "      <td>2.5</td>\n",
              "      <td>0.5</td>\n",
              "      <td>0.3</td>\n",
              "      <td>2.5</td>\n",
              "      <td>4.80</td>\n",
              "      <td>17.500000</td>\n",
              "      <td>6.200000e+00</td>\n",
              "      <td>-2.278336e-09</td>\n",
              "      <td>19.683332</td>\n",
              "      <td>10.0</td>\n",
              "      <td>27.000000</td>\n",
              "    </tr>\n",
              "    <tr>\n",
              "      <th>5</th>\n",
              "      <td>2</td>\n",
              "      <td>0</td>\n",
              "      <td>1</td>\n",
              "      <td>1</td>\n",
              "      <td>N</td>\n",
              "      <td>132</td>\n",
              "      <td>223</td>\n",
              "      <td>2</td>\n",
              "      <td>0</td>\n",
              "      <td>0.5</td>\n",
              "      <td>0.3</td>\n",
              "      <td>0</td>\n",
              "      <td>13.40</td>\n",
              "      <td>38.500001</td>\n",
              "      <td>-4.218575e-08</td>\n",
              "      <td>-2.278336e-09</td>\n",
              "      <td>31.283333</td>\n",
              "      <td>10.0</td>\n",
              "      <td>39.299999</td>\n",
              "    </tr>\n",
              "    <tr>\n",
              "      <th>6</th>\n",
              "      <td>2</td>\n",
              "      <td>2</td>\n",
              "      <td>2</td>\n",
              "      <td>1</td>\n",
              "      <td>N</td>\n",
              "      <td>138</td>\n",
              "      <td>232</td>\n",
              "      <td>1</td>\n",
              "      <td>0</td>\n",
              "      <td>0.5</td>\n",
              "      <td>0.3</td>\n",
              "      <td>2.5</td>\n",
              "      <td>9.54</td>\n",
              "      <td>29.000000</td>\n",
              "      <td>8.080000e+00</td>\n",
              "      <td>-2.278336e-09</td>\n",
              "      <td>20.750000</td>\n",
              "      <td>10.0</td>\n",
              "      <td>40.380001</td>\n",
              "    </tr>\n",
              "    <tr>\n",
              "      <th>7</th>\n",
              "      <td>1</td>\n",
              "      <td>3</td>\n",
              "      <td>1</td>\n",
              "      <td>1</td>\n",
              "      <td>N</td>\n",
              "      <td>234</td>\n",
              "      <td>234</td>\n",
              "      <td>2</td>\n",
              "      <td>3</td>\n",
              "      <td>0.5</td>\n",
              "      <td>0.3</td>\n",
              "      <td>2.5</td>\n",
              "      <td>0.70</td>\n",
              "      <td>6.000000</td>\n",
              "      <td>-4.218575e-08</td>\n",
              "      <td>-2.278336e-09</td>\n",
              "      <td>6.833333</td>\n",
              "      <td>20.0</td>\n",
              "      <td>9.800000</td>\n",
              "    </tr>\n",
              "    <tr>\n",
              "      <th>8</th>\n",
              "      <td>2</td>\n",
              "      <td>0</td>\n",
              "      <td>1</td>\n",
              "      <td>1</td>\n",
              "      <td>N</td>\n",
              "      <td>193</td>\n",
              "      <td>193</td>\n",
              "      <td>2</td>\n",
              "      <td>0</td>\n",
              "      <td>0.5</td>\n",
              "      <td>0.3</td>\n",
              "      <td>0</td>\n",
              "      <td>0.59</td>\n",
              "      <td>4.500000</td>\n",
              "      <td>-4.218575e-08</td>\n",
              "      <td>-2.278336e-09</td>\n",
              "      <td>3.550000</td>\n",
              "      <td>8.0</td>\n",
              "      <td>5.300000</td>\n",
              "    </tr>\n",
              "    <tr>\n",
              "      <th>9</th>\n",
              "      <td>2</td>\n",
              "      <td>5</td>\n",
              "      <td>5</td>\n",
              "      <td>1</td>\n",
              "      <td>N</td>\n",
              "      <td>79</td>\n",
              "      <td>256</td>\n",
              "      <td>2</td>\n",
              "      <td>0</td>\n",
              "      <td>0.5</td>\n",
              "      <td>0.3</td>\n",
              "      <td>2.5</td>\n",
              "      <td>3.39</td>\n",
              "      <td>13.500000</td>\n",
              "      <td>-4.218575e-08</td>\n",
              "      <td>-2.278336e-09</td>\n",
              "      <td>13.433333</td>\n",
              "      <td>14.0</td>\n",
              "      <td>16.799999</td>\n",
              "    </tr>\n",
              "  </tbody>\n",
              "</table>"
            ],
            "text/plain": [
              "<IPython.core.display.HTML object>"
            ]
          },
          "metadata": {}
        }
      ]
    },
    {
      "cell_type": "code",
      "metadata": {
        "colab": {
          "base_uri": "https://localhost:8080/"
        },
        "id": "jWP3oeotvrqv",
        "outputId": "4c52d6d3-2fa5-40bb-b722-076fae46e244"
      },
      "source": [
        "emb_szs = get_emb_sz(to)\n",
        "print(emb_szs) # số latten factors của mỗi biến phân loại"
      ],
      "execution_count": null,
      "outputs": [
        {
          "output_type": "stream",
          "name": "stdout",
          "text": [
            "[(3, 3), (8, 5), (9, 5), (8, 5), (3, 3), (247, 35), (261, 36), (5, 4), (17, 8), (4, 3), (3, 3), (5, 4)]\n"
          ]
        }
      ]
    },
    {
      "cell_type": "code",
      "metadata": {
        "id": "Nw5a8g5OxKIu"
      },
      "source": [
        "batch = dls.one_batch()"
      ],
      "execution_count": null,
      "outputs": []
    },
    {
      "cell_type": "code",
      "metadata": {
        "colab": {
          "base_uri": "https://localhost:8080/"
        },
        "id": "90zQWd2AxUC6",
        "outputId": "0e7cc8ee-61e7-4845-b5fe-a25dc3f69413"
      },
      "source": [
        "batch[0][0], batch[1][0], batch[2][0] "
      ],
      "execution_count": null,
      "outputs": [
        {
          "output_type": "execute_result",
          "data": {
            "text/plain": [
              "(tensor([ 1,  6,  2,  1,  1, 75, 94,  1, 10,  2,  2,  3]),\n",
              " tensor([-0.4526, -0.4119, -0.1338, -0.2300, -0.0721,  0.4620]),\n",
              " tensor([13.]))"
            ]
          },
          "metadata": {},
          "execution_count": 54
        }
      ]
    },
    {
      "cell_type": "code",
      "metadata": {
        "colab": {
          "base_uri": "https://localhost:8080/"
        },
        "id": "hn5doSQoyMo5",
        "outputId": "36ee9474-e322-4ec1-e95e-2b2f94e3db07"
      },
      "source": [
        "to.train.y.min(), to.train.y.max()"
      ],
      "execution_count": null,
      "outputs": [
        {
          "output_type": "execute_result",
          "data": {
            "text/plain": [
              "(0.30000001192092896, 99.95999908447266)"
            ]
          },
          "metadata": {},
          "execution_count": 55
        }
      ]
    },
    {
      "cell_type": "code",
      "metadata": {
        "id": "MjGK_G0cyynj"
      },
      "source": [
        "learn = tabular_learner(dls, y_range=(0,100), layers=[300,200],\n",
        "                        n_out=1, loss_func =MSELossFlat(), metrics= rmse)\n",
        "# model với miền giá trị của y từ 0 tới 100, layer đầu có 300 nơ ron layer tiếp theo có 200 nơ ron."
      ],
      "execution_count": null,
      "outputs": []
    },
    {
      "cell_type": "code",
      "metadata": {
        "colab": {
          "base_uri": "https://localhost:8080/",
          "height": 1000
        },
        "id": "DgF584zvy-Hf",
        "outputId": "076490b5-7f0b-41cd-e60b-d82980e77525"
      },
      "source": [
        "learn.summary()"
      ],
      "execution_count": null,
      "outputs": [
        {
          "output_type": "display_data",
          "data": {
            "text/html": [
              ""
            ],
            "text/plain": [
              "<IPython.core.display.HTML object>"
            ]
          },
          "metadata": {}
        },
        {
          "output_type": "execute_result",
          "data": {
            "application/vnd.google.colaboratory.intrinsic+json": {
              "type": "string"
            },
            "text/plain": [
              "TabularModel (Input shape: 1024 x 12)\n",
              "============================================================================\n",
              "Layer (type)         Output Shape         Param #    Trainable \n",
              "============================================================================\n",
              "                     1024 x 3            \n",
              "Embedding                                 9          True      \n",
              "____________________________________________________________________________\n",
              "                     1024 x 5            \n",
              "Embedding                                 40         True      \n",
              "Embedding                                 45         True      \n",
              "Embedding                                 40         True      \n",
              "____________________________________________________________________________\n",
              "                     1024 x 3            \n",
              "Embedding                                 9          True      \n",
              "____________________________________________________________________________\n",
              "                     1024 x 35           \n",
              "Embedding                                 8645       True      \n",
              "____________________________________________________________________________\n",
              "                     1024 x 36           \n",
              "Embedding                                 9396       True      \n",
              "____________________________________________________________________________\n",
              "                     1024 x 4            \n",
              "Embedding                                 20         True      \n",
              "____________________________________________________________________________\n",
              "                     1024 x 8            \n",
              "Embedding                                 136        True      \n",
              "____________________________________________________________________________\n",
              "                     1024 x 3            \n",
              "Embedding                                 12         True      \n",
              "Embedding                                 9          True      \n",
              "____________________________________________________________________________\n",
              "                     1024 x 4            \n",
              "Embedding                                 20         True      \n",
              "Dropout                                                        \n",
              "BatchNorm1d                               12         True      \n",
              "____________________________________________________________________________\n",
              "                     1024 x 300          \n",
              "Linear                                    36000      True      \n",
              "ReLU                                                           \n",
              "BatchNorm1d                               600        True      \n",
              "____________________________________________________________________________\n",
              "                     1024 x 200          \n",
              "Linear                                    60000      True      \n",
              "ReLU                                                           \n",
              "BatchNorm1d                               400        True      \n",
              "____________________________________________________________________________\n",
              "                     1024 x 1            \n",
              "Linear                                    201        True      \n",
              "SigmoidRange                                                   \n",
              "____________________________________________________________________________\n",
              "\n",
              "Total params: 115,594\n",
              "Total trainable params: 115,594\n",
              "Total non-trainable params: 0\n",
              "\n",
              "Optimizer used: <function Adam at 0x7f25f2704560>\n",
              "Loss function: FlattenedLoss of MSELoss()\n",
              "\n",
              "Callbacks:\n",
              "  - TrainEvalCallback\n",
              "  - Recorder\n",
              "  - ProgressCallback"
            ]
          },
          "metadata": {},
          "execution_count": 58
        }
      ]
    },
    {
      "cell_type": "code",
      "metadata": {
        "colab": {
          "base_uri": "https://localhost:8080/",
          "height": 300
        },
        "id": "He9IKxSMy_Ls",
        "outputId": "cd295b66-ba64-4189-fbd3-efd6f785a58b"
      },
      "source": [
        "learn.lr_find() # tìm lr phù hợp với model"
      ],
      "execution_count": null,
      "outputs": [
        {
          "output_type": "display_data",
          "data": {
            "text/html": [
              ""
            ],
            "text/plain": [
              "<IPython.core.display.HTML object>"
            ]
          },
          "metadata": {}
        },
        {
          "output_type": "execute_result",
          "data": {
            "text/plain": [
              "SuggestedLRs(valley=0.0020892962347716093)"
            ]
          },
          "metadata": {},
          "execution_count": 59
        },
        {
          "output_type": "display_data",
          "data": {
            "image/png": "[encoded data removed]",
            "text/plain": [
              "<Figure size 432x288 with 1 Axes>"
            ]
          },
          "metadata": {
            "needs_background": "light"
          }
        }
      ]
    },
    {
      "cell_type": "code",
      "metadata": {
        "colab": {
          "base_uri": "https://localhost:8080/",
          "height": 300
        },
        "id": "a18R5OKiTVMQ",
        "outputId": "257e53b1-b8de-4aac-f8a9-338c900a8138"
      },
      "source": [
        "learn.fit_one_cycle(8,3e-4,wd=0.1)"
      ],
      "execution_count": null,
      "outputs": [
        {
          "output_type": "display_data",
          "data": {
            "text/html": [
              "<table border=\"1\" class=\"dataframe\">\n",
              "  <thead>\n",
              "    <tr style=\"text-align: left;\">\n",
              "      <th>epoch</th>\n",
              "      <th>train_loss</th>\n",
              "      <th>valid_loss</th>\n",
              "      <th>_rmse</th>\n",
              "      <th>time</th>\n",
              "    </tr>\n",
              "  </thead>\n",
              "  <tbody>\n",
              "    <tr>\n",
              "      <td>0</td>\n",
              "      <td>113.597557</td>\n",
              "      <td>108.408585</td>\n",
              "      <td>10.411943</td>\n",
              "      <td>00:10</td>\n",
              "    </tr>\n",
              "    <tr>\n",
              "      <td>1</td>\n",
              "      <td>109.510628</td>\n",
              "      <td>107.999756</td>\n",
              "      <td>10.392292</td>\n",
              "      <td>00:10</td>\n",
              "    </tr>\n",
              "    <tr>\n",
              "      <td>2</td>\n",
              "      <td>53.793995</td>\n",
              "      <td>25.192047</td>\n",
              "      <td>5.019168</td>\n",
              "      <td>00:10</td>\n",
              "    </tr>\n",
              "    <tr>\n",
              "      <td>3</td>\n",
              "      <td>9.675529</td>\n",
              "      <td>5.297167</td>\n",
              "      <td>2.301558</td>\n",
              "      <td>00:10</td>\n",
              "    </tr>\n",
              "    <tr>\n",
              "      <td>4</td>\n",
              "      <td>0.853544</td>\n",
              "      <td>0.315859</td>\n",
              "      <td>0.562013</td>\n",
              "      <td>00:10</td>\n",
              "    </tr>\n",
              "    <tr>\n",
              "      <td>5</td>\n",
              "      <td>0.630577</td>\n",
              "      <td>0.184702</td>\n",
              "      <td>0.429770</td>\n",
              "      <td>00:10</td>\n",
              "    </tr>\n",
              "    <tr>\n",
              "      <td>6</td>\n",
              "      <td>0.453606</td>\n",
              "      <td>0.148627</td>\n",
              "      <td>0.385522</td>\n",
              "      <td>00:10</td>\n",
              "    </tr>\n",
              "    <tr>\n",
              "      <td>7</td>\n",
              "      <td>0.428976</td>\n",
              "      <td>0.125883</td>\n",
              "      <td>0.354800</td>\n",
              "      <td>00:10</td>\n",
              "    </tr>\n",
              "  </tbody>\n",
              "</table>"
            ],
            "text/plain": [
              "<IPython.core.display.HTML object>"
            ]
          },
          "metadata": {}
        }
      ]
    },
    {
      "cell_type": "code",
      "metadata": {
        "colab": {
          "base_uri": "https://localhost:8080/",
          "height": 17
        },
        "id": "irOgnYi2kI4x",
        "outputId": "e26ff5c6-868a-4eab-b320-76436577f8dd"
      },
      "source": [
        "preds,targs = learn.get_preds()"
      ],
      "execution_count": null,
      "outputs": [
        {
          "output_type": "display_data",
          "data": {
            "text/html": [
              ""
            ],
            "text/plain": [
              "<IPython.core.display.HTML object>"
            ]
          },
          "metadata": {}
        }
      ]
    },
    {
      "cell_type": "code",
      "metadata": {
        "colab": {
          "base_uri": "https://localhost:8080/",
          "height": 510
        },
        "id": "UUiZUWT7ku4P",
        "outputId": "ef96bf72-5296-4800-ea08-2c241014c7a7"
      },
      "source": [
        "fig, axes = plt.subplots(1, 1, figsize = (10, 5))\n",
        "ax1 = sns.distplot(valid_y, hist=False, color=\"r\", label=\"Actual Value\")\n",
        "sns.distplot(to_np(preds.squeeze()), hist = False, color = 'b', label = 'Fitted Values', ax = ax1)\n",
        "plt.title(\"Model with full data\")\n",
        "plt.show()"
      ],
      "execution_count": null,
      "outputs": [
        {
          "output_type": "stream",
          "name": "stderr",
          "text": [
            "/usr/local/lib/python3.7/dist-packages/seaborn/distributions.py:2619: FutureWarning:\n",
            "\n",
            "`distplot` is a deprecated function and will be removed in a future version. Please adapt your code to use either `displot` (a figure-level function with similar flexibility) or `kdeplot` (an axes-level function for kernel density plots).\n",
            "\n",
            "/usr/local/lib/python3.7/dist-packages/seaborn/distributions.py:2619: FutureWarning:\n",
            "\n",
            "`distplot` is a deprecated function and will be removed in a future version. Please adapt your code to use either `displot` (a figure-level function with similar flexibility) or `kdeplot` (an axes-level function for kernel density plots).\n",
            "\n"
          ]
        },
        {
          "output_type": "display_data",
          "data": {
            "image/png": "[encoded data removed]",
            "text/plain": [
              "<Figure size 720x360 with 1 Axes>"
            ]
          },
          "metadata": {
            "needs_background": "light"
          }
        }
      ]
    },
    {
      "cell_type": "code",
      "metadata": {
        "id": "2HPMopTm3IM2"
      },
      "source": [
        "learn.export('nn_model')"
      ],
      "execution_count": null,
      "outputs": []
    },
    {
      "cell_type": "markdown",
      "metadata": {
        "id": "kJybn9sVjp2U"
      },
      "source": [
        "## Neural Network with dropped data"
      ]
    },
    {
      "cell_type": "code",
      "metadata": {
        "id": "3FlmmCFu75kJ",
        "colab": {
          "base_uri": "https://localhost:8080/"
        },
        "outputId": "a6387c18-284b-4958-9c25-10faabf25b1a"
      },
      "source": [
        "df_nn = df_100.drop(['vendorid','store_and_fwd_flag','payment_type','day_of_week','improvement_surcharge','time','passenger_count','duration'],axis=1)\n",
        "cat_vars =['ratecodeid','pulocationid','dolocationid','extra','mta_tax', 'congestion_surcharge'] # các biến phân loại\n",
        "cont_vars =['trip_distance','fare_amount','tip_amount','tolls_amount'] #các biến liên tục\n",
        "dep_var = 'total_amount' # biến phụ thuộc\n",
        "procs = [Categorify,Normalize] # chuyển các biến phân loại về dạng Category\n",
        "splits = RandomSplitter(valid_pct=0.2,seed=42)(range_of(df_100)) # chia 20% cho tập valid\n",
        "to = TabularPandas(df_nn, procs, cat_vars, cont_vars, dep_var, y_block=RegressionBlock(),\n",
        "                   splits=splits, inplace=True, reduce_memory=True)"
      ],
      "execution_count": null,
      "outputs": [
        {
          "output_type": "stream",
          "name": "stderr",
          "text": [
            "/usr/local/lib/python3.7/dist-packages/fastai/tabular/core.py:148: UserWarning:\n",
            "\n",
            "Using inplace with splits will trigger a pandas error. Set `pd.options.mode.chained_assignment=None` to avoid it.\n",
            "\n"
          ]
        }
      ]
    },
    {
      "cell_type": "code",
      "metadata": {
        "id": "HPHDZLOMak0_"
      },
      "source": [
        "dls = to.dataloaders(batch_size=1024) # đưa data vào dataloaders với bs =1024"
      ],
      "execution_count": null,
      "outputs": []
    },
    {
      "cell_type": "code",
      "metadata": {
        "colab": {
          "base_uri": "https://localhost:8080/"
        },
        "id": "63s-6zkdsD8l",
        "outputId": "e8ac9101-7ad2-4059-b278-b1463932071d"
      },
      "source": [
        "ob = dls.one_batch()\n",
        "ob[0][0], ob[1][0], ob[2][0]"
      ],
      "execution_count": null,
      "outputs": [
        {
          "output_type": "execute_result",
          "data": {
            "text/plain": [
              "(tensor([  1,  25, 143,   3,   2,   3]),\n",
              " tensor([-0.6276, -0.7691, -0.1889, -0.2300]),\n",
              " tensor([9.3600]))"
            ]
          },
          "metadata": {},
          "execution_count": 94
        }
      ]
    },
    {
      "cell_type": "code",
      "metadata": {
        "colab": {
          "base_uri": "https://localhost:8080/",
          "height": 383
        },
        "id": "vbPFbd0_arZu",
        "outputId": "4d74d8a4-4aea-462b-dc2a-7a720d50eee3"
      },
      "source": [
        "dls.show_batch()"
      ],
      "execution_count": null,
      "outputs": [
        {
          "output_type": "display_data",
          "data": {
            "text/html": [
              "<table border=\"1\" class=\"dataframe\">\n",
              "  <thead>\n",
              "    <tr style=\"text-align: right;\">\n",
              "      <th></th>\n",
              "      <th>ratecodeid</th>\n",
              "      <th>pulocationid</th>\n",
              "      <th>dolocationid</th>\n",
              "      <th>extra</th>\n",
              "      <th>mta_tax</th>\n",
              "      <th>congestion_surcharge</th>\n",
              "      <th>trip_distance</th>\n",
              "      <th>fare_amount</th>\n",
              "      <th>tip_amount</th>\n",
              "      <th>tolls_amount</th>\n",
              "      <th>total_amount</th>\n",
              "    </tr>\n",
              "  </thead>\n",
              "  <tbody>\n",
              "    <tr>\n",
              "      <th>0</th>\n",
              "      <td>1</td>\n",
              "      <td>234</td>\n",
              "      <td>114</td>\n",
              "      <td>0</td>\n",
              "      <td>0.5</td>\n",
              "      <td>2.5</td>\n",
              "      <td>0.72</td>\n",
              "      <td>4.5</td>\n",
              "      <td>3.803586e-08</td>\n",
              "      <td>-6.696812e-09</td>\n",
              "      <td>7.800000</td>\n",
              "    </tr>\n",
              "    <tr>\n",
              "      <th>1</th>\n",
              "      <td>1</td>\n",
              "      <td>100</td>\n",
              "      <td>43</td>\n",
              "      <td>2.5</td>\n",
              "      <td>0.5</td>\n",
              "      <td>2.5</td>\n",
              "      <td>2.20</td>\n",
              "      <td>12.0</td>\n",
              "      <td>3.803586e-08</td>\n",
              "      <td>-6.696812e-09</td>\n",
              "      <td>15.300000</td>\n",
              "    </tr>\n",
              "    <tr>\n",
              "      <th>2</th>\n",
              "      <td>1</td>\n",
              "      <td>229</td>\n",
              "      <td>233</td>\n",
              "      <td>0</td>\n",
              "      <td>0.5</td>\n",
              "      <td>2.5</td>\n",
              "      <td>0.75</td>\n",
              "      <td>4.5</td>\n",
              "      <td>1.000000e+00</td>\n",
              "      <td>-6.696812e-09</td>\n",
              "      <td>8.800000</td>\n",
              "    </tr>\n",
              "    <tr>\n",
              "      <th>3</th>\n",
              "      <td>1</td>\n",
              "      <td>113</td>\n",
              "      <td>50</td>\n",
              "      <td>3.5</td>\n",
              "      <td>0.5</td>\n",
              "      <td>2.5</td>\n",
              "      <td>3.50</td>\n",
              "      <td>15.5</td>\n",
              "      <td>5.900000e+00</td>\n",
              "      <td>-6.696812e-09</td>\n",
              "      <td>25.700001</td>\n",
              "    </tr>\n",
              "    <tr>\n",
              "      <th>4</th>\n",
              "      <td>1</td>\n",
              "      <td>231</td>\n",
              "      <td>211</td>\n",
              "      <td>0.5</td>\n",
              "      <td>0.5</td>\n",
              "      <td>2.5</td>\n",
              "      <td>0.22</td>\n",
              "      <td>4.0</td>\n",
              "      <td>1.560000e+00</td>\n",
              "      <td>-6.696812e-09</td>\n",
              "      <td>9.360000</td>\n",
              "    </tr>\n",
              "    <tr>\n",
              "      <th>5</th>\n",
              "      <td>2</td>\n",
              "      <td>68</td>\n",
              "      <td>132</td>\n",
              "      <td>7</td>\n",
              "      <td>0.5</td>\n",
              "      <td>2.5</td>\n",
              "      <td>17.40</td>\n",
              "      <td>52.0</td>\n",
              "      <td>3.803586e-08</td>\n",
              "      <td>6.120000e+00</td>\n",
              "      <td>65.919998</td>\n",
              "    </tr>\n",
              "    <tr>\n",
              "      <th>6</th>\n",
              "      <td>1</td>\n",
              "      <td>163</td>\n",
              "      <td>233</td>\n",
              "      <td>2.5</td>\n",
              "      <td>0.5</td>\n",
              "      <td>2.5</td>\n",
              "      <td>1.90</td>\n",
              "      <td>10.0</td>\n",
              "      <td>2.650000e+00</td>\n",
              "      <td>-6.696812e-09</td>\n",
              "      <td>15.950000</td>\n",
              "    </tr>\n",
              "    <tr>\n",
              "      <th>7</th>\n",
              "      <td>1</td>\n",
              "      <td>148</td>\n",
              "      <td>234</td>\n",
              "      <td>0.5</td>\n",
              "      <td>0.5</td>\n",
              "      <td>2.5</td>\n",
              "      <td>2.65</td>\n",
              "      <td>11.5</td>\n",
              "      <td>1.000000e+00</td>\n",
              "      <td>-6.696812e-09</td>\n",
              "      <td>16.299999</td>\n",
              "    </tr>\n",
              "    <tr>\n",
              "      <th>8</th>\n",
              "      <td>1</td>\n",
              "      <td>151</td>\n",
              "      <td>116</td>\n",
              "      <td>0</td>\n",
              "      <td>0.5</td>\n",
              "      <td>0</td>\n",
              "      <td>3.00</td>\n",
              "      <td>11.5</td>\n",
              "      <td>3.803586e-08</td>\n",
              "      <td>-6.696812e-09</td>\n",
              "      <td>12.300000</td>\n",
              "    </tr>\n",
              "    <tr>\n",
              "      <th>9</th>\n",
              "      <td>1</td>\n",
              "      <td>246</td>\n",
              "      <td>100</td>\n",
              "      <td>0</td>\n",
              "      <td>0.5</td>\n",
              "      <td>2.5</td>\n",
              "      <td>1.22</td>\n",
              "      <td>8.0</td>\n",
              "      <td>3.803586e-08</td>\n",
              "      <td>-6.696812e-09</td>\n",
              "      <td>11.300000</td>\n",
              "    </tr>\n",
              "  </tbody>\n",
              "</table>"
            ],
            "text/plain": [
              "<IPython.core.display.HTML object>"
            ]
          },
          "metadata": {}
        }
      ]
    },
    {
      "cell_type": "code",
      "metadata": {
        "id": "lBNL-fPubABB"
      },
      "source": [
        "learn = tabular_learner(dls, y_range=(0,100), layers=[300,200],\n",
        "                        n_out=1, loss_func =MSELossFlat(), metrics= rmse)"
      ],
      "execution_count": null,
      "outputs": []
    },
    {
      "cell_type": "code",
      "metadata": {
        "colab": {
          "base_uri": "https://localhost:8080/",
          "height": 885
        },
        "id": "eN-YhTzvbHKF",
        "outputId": "3d9cce43-0dd9-4e0e-9c3a-96725253a778"
      },
      "source": [
        "learn.summary()"
      ],
      "execution_count": null,
      "outputs": [
        {
          "output_type": "display_data",
          "data": {
            "text/html": [
              ""
            ],
            "text/plain": [
              "<IPython.core.display.HTML object>"
            ]
          },
          "metadata": {}
        },
        {
          "output_type": "execute_result",
          "data": {
            "application/vnd.google.colaboratory.intrinsic+json": {
              "type": "string"
            },
            "text/plain": [
              "TabularModel (Input shape: 1024 x 6)\n",
              "============================================================================\n",
              "Layer (type)         Output Shape         Param #    Trainable \n",
              "============================================================================\n",
              "                     1024 x 5            \n",
              "Embedding                                 40         True      \n",
              "____________________________________________________________________________\n",
              "                     1024 x 35           \n",
              "Embedding                                 8645       True      \n",
              "____________________________________________________________________________\n",
              "                     1024 x 36           \n",
              "Embedding                                 9396       True      \n",
              "____________________________________________________________________________\n",
              "                     1024 x 8            \n",
              "Embedding                                 136        True      \n",
              "____________________________________________________________________________\n",
              "                     1024 x 3            \n",
              "Embedding                                 12         True      \n",
              "____________________________________________________________________________\n",
              "                     1024 x 4            \n",
              "Embedding                                 20         True      \n",
              "Dropout                                                        \n",
              "BatchNorm1d                               8          True      \n",
              "____________________________________________________________________________\n",
              "                     1024 x 300          \n",
              "Linear                                    28500      True      \n",
              "ReLU                                                           \n",
              "BatchNorm1d                               600        True      \n",
              "____________________________________________________________________________\n",
              "                     1024 x 200          \n",
              "Linear                                    60000      True      \n",
              "ReLU                                                           \n",
              "BatchNorm1d                               400        True      \n",
              "____________________________________________________________________________\n",
              "                     1024 x 1            \n",
              "Linear                                    201        True      \n",
              "SigmoidRange                                                   \n",
              "____________________________________________________________________________\n",
              "\n",
              "Total params: 107,958\n",
              "Total trainable params: 107,958\n",
              "Total non-trainable params: 0\n",
              "\n",
              "Optimizer used: <function Adam at 0x7f25f2704560>\n",
              "Loss function: FlattenedLoss of MSELoss()\n",
              "\n",
              "Callbacks:\n",
              "  - TrainEvalCallback\n",
              "  - Recorder\n",
              "  - ProgressCallback"
            ]
          },
          "metadata": {},
          "execution_count": 97
        }
      ]
    },
    {
      "cell_type": "code",
      "metadata": {
        "colab": {
          "base_uri": "https://localhost:8080/",
          "height": 300
        },
        "id": "liYE9Z5tbJ_9",
        "outputId": "8d29e4df-6947-4f5f-f525-9612219ca2ba"
      },
      "source": [
        "learn.lr_find()"
      ],
      "execution_count": null,
      "outputs": [
        {
          "output_type": "display_data",
          "data": {
            "text/html": [
              ""
            ],
            "text/plain": [
              "<IPython.core.display.HTML object>"
            ]
          },
          "metadata": {}
        },
        {
          "output_type": "execute_result",
          "data": {
            "text/plain": [
              "SuggestedLRs(valley=0.001737800776027143)"
            ]
          },
          "metadata": {},
          "execution_count": 98
        },
        {
          "output_type": "display_data",
          "data": {
            "image/png": "[encoded data removed]",
            "text/plain": [
              "<Figure size 432x288 with 1 Axes>"
            ]
          },
          "metadata": {
            "needs_background": "light"
          }
        }
      ]
    },
    {
      "cell_type": "code",
      "metadata": {
        "colab": {
          "base_uri": "https://localhost:8080/",
          "height": 300
        },
        "id": "IJJj7P5tbTbD",
        "outputId": "2cd900e2-0390-4168-9ac9-3869fba56fa4"
      },
      "source": [
        "learn.fit_one_cycle(8,3e-4, wd=0.1)"
      ],
      "execution_count": null,
      "outputs": [
        {
          "output_type": "display_data",
          "data": {
            "text/html": [
              "<table border=\"1\" class=\"dataframe\">\n",
              "  <thead>\n",
              "    <tr style=\"text-align: left;\">\n",
              "      <th>epoch</th>\n",
              "      <th>train_loss</th>\n",
              "      <th>valid_loss</th>\n",
              "      <th>_rmse</th>\n",
              "      <th>time</th>\n",
              "    </tr>\n",
              "  </thead>\n",
              "  <tbody>\n",
              "    <tr>\n",
              "      <td>0</td>\n",
              "      <td>117.756683</td>\n",
              "      <td>111.399269</td>\n",
              "      <td>10.554585</td>\n",
              "      <td>00:09</td>\n",
              "    </tr>\n",
              "    <tr>\n",
              "      <td>1</td>\n",
              "      <td>112.413933</td>\n",
              "      <td>107.967522</td>\n",
              "      <td>10.390739</td>\n",
              "      <td>00:09</td>\n",
              "    </tr>\n",
              "    <tr>\n",
              "      <td>2</td>\n",
              "      <td>22.608315</td>\n",
              "      <td>15.959035</td>\n",
              "      <td>3.994876</td>\n",
              "      <td>00:09</td>\n",
              "    </tr>\n",
              "    <tr>\n",
              "      <td>3</td>\n",
              "      <td>11.699695</td>\n",
              "      <td>9.148288</td>\n",
              "      <td>3.024614</td>\n",
              "      <td>00:09</td>\n",
              "    </tr>\n",
              "    <tr>\n",
              "      <td>4</td>\n",
              "      <td>0.633389</td>\n",
              "      <td>0.553543</td>\n",
              "      <td>0.744005</td>\n",
              "      <td>00:09</td>\n",
              "    </tr>\n",
              "    <tr>\n",
              "      <td>5</td>\n",
              "      <td>0.567862</td>\n",
              "      <td>0.529307</td>\n",
              "      <td>0.727535</td>\n",
              "      <td>00:09</td>\n",
              "    </tr>\n",
              "    <tr>\n",
              "      <td>6</td>\n",
              "      <td>0.338085</td>\n",
              "      <td>0.123436</td>\n",
              "      <td>0.351335</td>\n",
              "      <td>00:09</td>\n",
              "    </tr>\n",
              "    <tr>\n",
              "      <td>7</td>\n",
              "      <td>0.323939</td>\n",
              "      <td>0.102272</td>\n",
              "      <td>0.319800</td>\n",
              "      <td>00:09</td>\n",
              "    </tr>\n",
              "  </tbody>\n",
              "</table>"
            ],
            "text/plain": [
              "<IPython.core.display.HTML object>"
            ]
          },
          "metadata": {}
        }
      ]
    },
    {
      "cell_type": "code",
      "metadata": {
        "id": "720NoTOjbiP7",
        "colab": {
          "base_uri": "https://localhost:8080/",
          "height": 510
        },
        "outputId": "1020ca6c-6943-4ec3-bf77-fceb9fe2615a"
      },
      "source": [
        "preds, targs = learn.get_preds()\n",
        "fig, axes = plt.subplots(1, 1, figsize = (10, 5))\n",
        "ax1 = sns.distplot(valid_y, hist=False, color=\"r\", label=\"Actual Value\")\n",
        "sns.distplot(to_np(preds.squeeze()), hist = False, color = 'b', label = 'Fitted Values', ax = ax1)\n",
        "plt.title(\"Model with dropped data\")\n",
        "plt.show()"
      ],
      "execution_count": null,
      "outputs": [
        {
          "output_type": "display_data",
          "data": {
            "text/html": [
              ""
            ],
            "text/plain": [
              "<IPython.core.display.HTML object>"
            ]
          },
          "metadata": {}
        },
        {
          "output_type": "stream",
          "name": "stderr",
          "text": [
            "/usr/local/lib/python3.7/dist-packages/seaborn/distributions.py:2619: FutureWarning:\n",
            "\n",
            "`distplot` is a deprecated function and will be removed in a future version. Please adapt your code to use either `displot` (a figure-level function with similar flexibility) or `kdeplot` (an axes-level function for kernel density plots).\n",
            "\n",
            "/usr/local/lib/python3.7/dist-packages/seaborn/distributions.py:2619: FutureWarning:\n",
            "\n",
            "`distplot` is a deprecated function and will be removed in a future version. Please adapt your code to use either `displot` (a figure-level function with similar flexibility) or `kdeplot` (an axes-level function for kernel density plots).\n",
            "\n"
          ]
        },
        {
          "output_type": "display_data",
          "data": {
            "image/png": "[encoded data removed]",
            "text/plain": [
              "<Figure size 720x360 with 1 Axes>"
            ]
          },
          "metadata": {
            "needs_background": "light"
          }
        }
      ]
    },
    {
      "cell_type": "markdown",
      "metadata": {
        "id": "Zu9FfMoAwyVK"
      },
      "source": [
        "#Inference"
      ]
    },
    {
      "cell_type": "code",
      "metadata": {
        "id": "bq9Isp_kpUGc"
      },
      "source": [
        "test_df = df_nn.sample(100)\n",
        "dl = learn.dls.test_dl(test_df)"
      ],
      "execution_count": null,
      "outputs": []
    },
    {
      "cell_type": "code",
      "metadata": {
        "id": "v1lmcf3exCmo",
        "colab": {
          "base_uri": "https://localhost:8080/",
          "height": 17
        },
        "outputId": "f1cfc9ae-d6e0-4a69-bbd4-c06acebaa8f4"
      },
      "source": [
        "preds, targs =learn.get_preds(dl=dl)"
      ],
      "execution_count": null,
      "outputs": [
        {
          "output_type": "display_data",
          "data": {
            "text/html": [
              ""
            ],
            "text/plain": [
              "<IPython.core.display.HTML object>"
            ]
          },
          "metadata": {}
        }
      ]
    },
    {
      "cell_type": "code",
      "metadata": {
        "id": "E5D0QgA2xxmc",
        "colab": {
          "base_uri": "https://localhost:8080/"
        },
        "outputId": "19dd7355-9d5d-49b8-ed35-719c96421906"
      },
      "source": [
        "r_mse(preds, targs)"
      ],
      "execution_count": null,
      "outputs": [
        {
          "output_type": "execute_result",
          "data": {
            "text/plain": [
              "0.23223"
            ]
          },
          "metadata": {},
          "execution_count": 103
        }
      ]
    },
    {
      "cell_type": "code",
      "metadata": {
        "id": "4M7Ll3y0xKVX",
        "colab": {
          "base_uri": "https://localhost:8080/",
          "height": 495
        },
        "outputId": "ef8c5d79-a934-4ff3-c999-31fbb8cca28b"
      },
      "source": [
        "fig, axes = plt.subplots(1, 1, figsize = (10, 5))\n",
        "ax1 = sns.distplot(to_np(targs.squeeze()), hist=False, color=\"r\", label=\"Actual Value\")\n",
        "sns.distplot(to_np(preds.squeeze()), hist = False, color = 'b', label = 'Fitted Values', ax = ax1)\n",
        "plt.title(\"Model with full data\")\n",
        "plt.show()"
      ],
      "execution_count": null,
      "outputs": [
        {
          "output_type": "stream",
          "name": "stderr",
          "text": [
            "/usr/local/lib/python3.7/dist-packages/seaborn/distributions.py:2619: FutureWarning:\n",
            "\n",
            "`distplot` is a deprecated function and will be removed in a future version. Please adapt your code to use either `displot` (a figure-level function with similar flexibility) or `kdeplot` (an axes-level function for kernel density plots).\n",
            "\n",
            "/usr/local/lib/python3.7/dist-packages/seaborn/distributions.py:2619: FutureWarning:\n",
            "\n",
            "`distplot` is a deprecated function and will be removed in a future version. Please adapt your code to use either `displot` (a figure-level function with similar flexibility) or `kdeplot` (an axes-level function for kernel density plots).\n",
            "\n"
          ]
        },
        {
          "output_type": "display_data",
          "data": {
            "image/png": "[encoded data removed]",
            "text/plain": [
              "<Figure size 720x360 with 1 Axes>"
            ]
          },
          "metadata": {
            "needs_background": "light"
          }
        }
      ]
    },
    {
      "cell_type": "code",
      "metadata": {
        "id": "lmTgLaGjxMR4"
      },
      "source": [
        "learn.export('dropped_model')"
      ],
      "execution_count": null,
      "outputs": []
    },
    {
      "cell_type": "code",
      "metadata": {
        "id": "mxIcCJaLQxqu"
      },
      "source": [
        ""
      ],
      "execution_count": null,
      "outputs": []
    }
  ]
}